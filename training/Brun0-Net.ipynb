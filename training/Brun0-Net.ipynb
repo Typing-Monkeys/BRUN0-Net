{
 "cells": [
  {
   "cell_type": "markdown",
   "id": "70662836",
   "metadata": {},
   "source": [
    "# BRUN0-NET"
   ]
  },
  {
   "cell_type": "markdown",
   "id": "7c14f53e",
   "metadata": {},
   "source": [
    "La competizione che abbiamo scelto di affrontare richiede di creare un modello che è capace di assegnare automaticamente una valutazione ad un possibile testo che gli verrebbe sottoposto da uno studente, a partire dalle medie, fino all'ultimo anno di superiori.\n",
    "\n",
    "La nota cruciale del sistema è che deve valutare testi di tipo argomentativo, esprimento quindi una valutazione su componenti come l'organizzazione, le prove a supporto di una tesim lo sviluppo delle idee, e altro, mantenendo però un costo ridotto per permettere anche a comunità meno abbienti di usufruirne."
   ]
  },
  {
   "cell_type": "markdown",
   "id": "6d4d5600",
   "metadata": {},
   "source": [
    "Lo sviluppo del progetto è stato portato avanti utilizzando keras e bert per quanto riguarda la parte di machine learning, e varie librerie di Python per il resto. \n",
    "\n",
    "Il codice comunque è interamente scritto in Python.\n"
   ]
  },
  {
   "cell_type": "code",
   "execution_count": 1,
   "id": "14ffd110",
   "metadata": {},
   "outputs": [],
   "source": [
    "import pandas as pd\n",
    "import numpy as np\n",
    "import matplotlib.pyplot as plt\n",
    "import tensorflow as tf\n",
    "import seaborn as sns\n",
    "import matplotlib.ticker as mtick\n",
    "from IPython.display import display, Markdown\n",
    "import re\n",
    "\n",
    "SEED = 118\n",
    "dataset_path = \"./dataset\"\n",
    "bert_path = f\"{dataset_path}/bert\"\n",
    "\n",
    "# imposta il random seed per Python, Numpy and TensorFlow (OMG AMAZING 😲)\n",
    "tf.keras.utils.set_random_seed(SEED)"
   ]
  },
  {
   "cell_type": "markdown",
   "id": "c8ed7677",
   "metadata": {},
   "source": [
    "## Analisi del Dataset"
   ]
  },
  {
   "cell_type": "markdown",
   "id": "356c523c",
   "metadata": {},
   "source": [
    "Il dataset fornito da keras presenta circa 3000 testi argomentativi di studenti statunitensi che variano in livello da medie a superiori.\n",
    "Ogni testo è stato analizzato da esperti per estrapolarne elementi del discorso comunemente trovati in testi argomentativi, in paricolare:\n",
    "\n",
    "- `Lead`: ovvero un introduzione che che serve per catturare l'attenzione del lettore e indirizzarlo verso la tesi\n",
    "- `Position`: un opinione o conclusioni tratte sull'argomento portato\n",
    "- `Claim`: un'affermazione che supporti la posizione\n",
    "- `Counterclaim`: a claim that refutes another claim or gives an opposing reason to the position\n",
    "- `Rebuttal`: una nuova affermazione che confuta la Counterclaim\n",
    "- `Evidence`: idee a supporto della Claim\n",
    "- `Concluding Statement`: una frase conclusiva che ribadisce le affermazioni\n",
    "\n",
    "\n",
    "Ogniuna di queste componenti è affiancata ad uno di tre giudizi che saranno le nostre label per la fase di training:\n",
    "\n",
    "- `Ineffective`\n",
    "- `Adequate`\n",
    "- `Effective`\n"
   ]
  },
  {
   "cell_type": "markdown",
   "id": "d6bea5e5",
   "metadata": {},
   "source": [
    "Carico il dataset in memoria e ne stampo una breve anteprima"
   ]
  },
  {
   "cell_type": "code",
   "execution_count": 35,
   "id": "8b8714eb",
   "metadata": {},
   "outputs": [
    {
     "data": {
      "text/html": [
       "<div>\n",
       "<style scoped>\n",
       "    .dataframe tbody tr th:only-of-type {\n",
       "        vertical-align: middle;\n",
       "    }\n",
       "\n",
       "    .dataframe tbody tr th {\n",
       "        vertical-align: top;\n",
       "    }\n",
       "\n",
       "    .dataframe thead th {\n",
       "        text-align: right;\n",
       "    }\n",
       "</style>\n",
       "<table border=\"1\" class=\"dataframe\">\n",
       "  <thead>\n",
       "    <tr style=\"text-align: right;\">\n",
       "      <th></th>\n",
       "      <th>discourse_id</th>\n",
       "      <th>essay_id</th>\n",
       "      <th>discourse_text</th>\n",
       "      <th>discourse_type</th>\n",
       "      <th>discourse_effectiveness</th>\n",
       "    </tr>\n",
       "  </thead>\n",
       "  <tbody>\n",
       "    <tr>\n",
       "      <th>0</th>\n",
       "      <td>0013cc385424</td>\n",
       "      <td>007ACE74B050</td>\n",
       "      <td>Hi, i'm Isaac, i'm going to be writing about h...</td>\n",
       "      <td>Lead</td>\n",
       "      <td>Adequate</td>\n",
       "    </tr>\n",
       "    <tr>\n",
       "      <th>1</th>\n",
       "      <td>9704a709b505</td>\n",
       "      <td>007ACE74B050</td>\n",
       "      <td>On my perspective, I think that the face is a ...</td>\n",
       "      <td>Position</td>\n",
       "      <td>Adequate</td>\n",
       "    </tr>\n",
       "    <tr>\n",
       "      <th>2</th>\n",
       "      <td>c22adee811b6</td>\n",
       "      <td>007ACE74B050</td>\n",
       "      <td>I think that the face is a natural landform be...</td>\n",
       "      <td>Claim</td>\n",
       "      <td>Adequate</td>\n",
       "    </tr>\n",
       "    <tr>\n",
       "      <th>3</th>\n",
       "      <td>a10d361e54e4</td>\n",
       "      <td>007ACE74B050</td>\n",
       "      <td>If life was on Mars, we would know by now. The...</td>\n",
       "      <td>Evidence</td>\n",
       "      <td>Adequate</td>\n",
       "    </tr>\n",
       "    <tr>\n",
       "      <th>4</th>\n",
       "      <td>db3e453ec4e2</td>\n",
       "      <td>007ACE74B050</td>\n",
       "      <td>People thought that the face was formed by ali...</td>\n",
       "      <td>Counterclaim</td>\n",
       "      <td>Adequate</td>\n",
       "    </tr>\n",
       "  </tbody>\n",
       "</table>\n",
       "</div>"
      ],
      "text/plain": [
       "   discourse_id      essay_id  \\\n",
       "0  0013cc385424  007ACE74B050   \n",
       "1  9704a709b505  007ACE74B050   \n",
       "2  c22adee811b6  007ACE74B050   \n",
       "3  a10d361e54e4  007ACE74B050   \n",
       "4  db3e453ec4e2  007ACE74B050   \n",
       "\n",
       "                                      discourse_text discourse_type  \\\n",
       "0  Hi, i'm Isaac, i'm going to be writing about h...           Lead   \n",
       "1  On my perspective, I think that the face is a ...       Position   \n",
       "2  I think that the face is a natural landform be...          Claim   \n",
       "3  If life was on Mars, we would know by now. The...       Evidence   \n",
       "4  People thought that the face was formed by ali...   Counterclaim   \n",
       "\n",
       "  discourse_effectiveness  \n",
       "0                Adequate  \n",
       "1                Adequate  \n",
       "2                Adequate  \n",
       "3                Adequate  \n",
       "4                Adequate  "
      ]
     },
     "execution_count": 35,
     "metadata": {},
     "output_type": "execute_result"
    }
   ],
   "source": [
    "dataset = pd.read_csv(f'{dataset_path}/train.csv')\n",
    "dataset.head()"
   ]
  },
  {
   "cell_type": "markdown",
   "id": "c62a2994",
   "metadata": {},
   "source": [
    "Controllo quanti `essey_id` compaiono nel dataset e quanti ne ho nella cartella `train`"
   ]
  },
  {
   "cell_type": "code",
   "execution_count": 36,
   "id": "c2ac7acf",
   "metadata": {},
   "outputs": [
    {
     "name": "stdout",
     "output_type": "stream",
     "text": [
      "huggingface/tokenizers: The current process just got forked, after parallelism has already been used. Disabling parallelism to avoid deadlocks...\n",
      "To disable this warning, you can either:\n",
      "\t- Avoid using `tokenizers` before the fork if possible\n",
      "\t- Explicitly set the environment variable TOKENIZERS_PARALLELISM=(true | false)\n",
      "N Essey ID in dataset: 4191\n",
      "N Essey ID in folder:  4191\n"
     ]
    }
   ],
   "source": [
    "unique_esseyid_dataset = dataset[\"essay_id\"].unique()\n",
    "esseyid_number = len(unique_esseyid_dataset)\n",
    "\n",
    "real_esseyid_number = !ls {dataset_path}/train | wc -l\n",
    "\n",
    "print(f\"N Essey ID in dataset: {esseyid_number}\")\n",
    "print(f\"N Essey ID in folder:  {real_esseyid_number[0]}\")"
   ]
  },
  {
   "cell_type": "markdown",
   "id": "973fd922",
   "metadata": {},
   "source": [
    "Vado a stampare la frequenza dei vari elementi delle colonne `discourse_type` e `discourse_effectiveness` per vedere quanto il dataset è sbilanciato"
   ]
  },
  {
   "cell_type": "code",
   "execution_count": 37,
   "id": "8936bd8c",
   "metadata": {},
   "outputs": [
    {
     "data": {
      "image/png": "[encoded data removed]",
      "text/plain": [
       "<Figure size 1944x432 with 2 Axes>"
      ]
     },
     "metadata": {
      "needs_background": "light"
     },
     "output_type": "display_data"
    }
   ],
   "source": [
    "palette = [\"xkcd:baby shit green\", \"xkcd:asparagus\", \"xkcd:nasty green\", \"xkcd:algae\", \"xkcd:fern\", \"xkcd:pistachio\", \"xkcd:hospital green\"]\n",
    "\n",
    "fig, axes = plt.subplots(1, 2, figsize=(27, 6))\n",
    "\n",
    "# discoruse type\n",
    "labels = dataset['discourse_type'].unique()\n",
    "sns.countplot(\n",
    "    x=\"discourse_type\", \n",
    "    data=dataset, \n",
    "    linewidth=1.25, \n",
    "    alpha=1, \n",
    "    ax=axes[0], \n",
    "    zorder=2, \n",
    "    order=labels, \n",
    "    palette=palette\n",
    ")\n",
    "axes[0].set(xlabel=None, ylabel=None, title=\"Discourse Type\")\n",
    "\n",
    "# discoruse effectiveness\n",
    "labels = [\"Ineffective\", \"Adequate\", \"Effective\"]\n",
    "sns.countplot(\n",
    "    x=\"discourse_effectiveness\", \n",
    "    data=dataset, \n",
    "    linewidth=1.25, \n",
    "    alpha=1, \n",
    "    ax=axes[1], \n",
    "    zorder=2, \n",
    "    order=labels, \n",
    "    palette=palette\n",
    ")\n",
    "axes[1].set(xlabel=None, ylabel=None, title=\"Discourse Effectiveness\")\n",
    "\n",
    "fig.suptitle('Discourse Effectiveness & Discourse Type', y=1.08)\n",
    "fig.subplots_adjust(\n",
    "    wspace=0.15, \n",
    "    #left=0.1, bottom=0.1, right=0.9, top=0.9, hspace=0.4\n",
    ")\n",
    "\n",
    "plt.show()"
   ]
  },
  {
   "cell_type": "code",
   "execution_count": 38,
   "id": "c7cb7fbf",
   "metadata": {},
   "outputs": [
    {
     "data": {
      "image/png": "[encoded data removed]",
      "text/plain": [
       "<Figure size 2160x360 with 7 Axes>"
      ]
     },
     "metadata": {
      "needs_background": "light"
     },
     "output_type": "display_data"
    }
   ],
   "source": [
    "palette = [\"xkcd:deep purple\", \"xkcd:light eggplant\", \"xkcd:ugly pink\"]\n",
    "\n",
    "discourse_types = dataset.discourse_type.unique()\n",
    "discourse_id = len(dataset.discourse_id)\n",
    "fig, axes = plt.subplots(1, len(discourse_types), sharex='col', sharey='row', figsize=(30, 5))\n",
    "for i, discourse_type in enumerate(discourse_types):\n",
    "    ax = axes[i]\n",
    "    ax.yaxis.set_major_formatter(mtick.PercentFormatter(discourse_id))\n",
    "\n",
    "    filtered_df = dataset[dataset.discourse_type == discourse_type]\n",
    "    \n",
    "    sns.countplot(\n",
    "        x=\"discourse_effectiveness\", \n",
    "        data=filtered_df, \n",
    "        linewidth=1.25, \n",
    "        alpha=1, \n",
    "        ax=ax, \n",
    "        zorder=2, \n",
    "        order=labels, \n",
    "        palette=palette\n",
    "    )\n",
    "    ax.set(xlabel=None, ylabel=None, title=discourse_type)\n",
    "\n",
    "fig.suptitle('Discourse Effectiveness distribution per Discourse Type', y=1.08)\n",
    "plt.show()"
   ]
  },
  {
   "cell_type": "markdown",
   "id": "4522c5e9",
   "metadata": {},
   "source": [
    "Possiamo notare dai precedenti grafici che il dataset risulta molto **sbilanciato**:\n",
    "\n",
    "- Nella colonna `discourse_effectiveness`, ho tantissimi elementi che appartengono alla classe `Adequate` e pochissimi per le altre 2 classi `Effective`e `Ineffective`\n",
    "- Nella colonna `discourse_type`, ho tantissimi testi che appartengono alle tipologia `Evidence` e `Claim` ma estremamente pochi per tutte le altre"
   ]
  },
  {
   "cell_type": "markdown",
   "id": "923f7ea8",
   "metadata": {},
   "source": [
    "\n",
    "\n",
    "Vado a stampare, per ogni tipologia di testo, quanti di questi risultano `Adequate`, `Effective` e `Ineffective`."
   ]
  },
  {
   "cell_type": "code",
   "execution_count": 75,
   "id": "cef100bf",
   "metadata": {},
   "outputs": [],
   "source": [
    "# CON STOPWORDS\n",
    "\n",
    "chars_count = []\n",
    "words_count = []\n",
    "punctuation_count = []\n",
    "\n",
    "for text in dataset[\"discourse_text\"]:\n",
    "    chars = len(text)\n",
    "    punctuation = len(re.findall(r\"[^\\w\\s ']\", text))\n",
    "    \n",
    "    chars_count.append(chars)\n",
    "    words_count.append(len(re.split(r'\\b\\W+\\b', text)))\n",
    "    punctuation_count.append(punctuation)\n",
    "\n",
    "    \n",
    "dataset[\"discourse_chars_count\"] = pd.Series(chars_count)\n",
    "dataset[\"discourse_words_count\"] = pd.Series(words_count)\n",
    "dataset[\"discourse_punctuation_count\"] = pd.Series(punctuation_count)\n",
    "\n",
    "series_data = []\n",
    "for cls in dataset[\"discourse_effectiveness\"].unique():\n",
    "    chars_mean = round(dataset[dataset.discourse_effectiveness==cls][\"discourse_chars_count\"].sum()/len(dataset[dataset.discourse_effectiveness==cls]))\n",
    "    words_mean = round(dataset[dataset.discourse_effectiveness==cls][\"discourse_words_count\"].sum()/len(dataset[dataset.discourse_effectiveness==cls]))\n",
    "    punctuation_count_mean = round(dataset[dataset.discourse_effectiveness==cls][\"discourse_punctuation_count\"].sum()/len(dataset[dataset.discourse_effectiveness==cls]))\n",
    "    punctuation_percent_mean = round(punctuation_count_mean / chars_mean * 100, 3)\n",
    "\n",
    "    # print(f'{cls}: {chars_mean} c / {words_mean} w / {punctuation_count_mean} p / {punctuation_percent_mean} p%')\n",
    "    series_data.append([chars_mean, words_mean, punctuation_count_mean, punctuation_percent_mean])\n",
    "\n",
    "# creo un nuovo dataframe per visualizzare meglio i dati\n",
    "df_stat_stops = pd.DataFrame(series_data, columns=['N. Chars', 'N. Words', 'N. Punctuation', 'Punctuation Percent (%)'], index=dataset[\"discourse_effectiveness\"].unique().tolist())"
   ]
  },
  {
   "cell_type": "code",
   "execution_count": 101,
   "id": "ce142304",
   "metadata": {},
   "outputs": [],
   "source": [
    "# SENZA STOPWORDS\n",
    "import nltk\n",
    "\n",
    "\n",
    "# scarica il file stopwords se non presente\n",
    "try:\n",
    "    nltk.data.find('corpora/stopwords')\n",
    "except LookupError:\n",
    "    nltk.download('stopwords')\n",
    "\n",
    "\n",
    "from nltk.corpus import stopwords\n",
    "\n",
    "# creo la regex per individuare le stopwords\n",
    "stops = set(stopwords.words(\"english\"))\n",
    "stops_regex = r\"\"\n",
    "for stop in stops:\n",
    "    stops_regex += fr\"\\b{stop}\\b|\"\n",
    "\n",
    "stops_regex = stops_regex[: -1]\n",
    "\n",
    "no_stops = []\n",
    "chars_count = []\n",
    "words_count = []\n",
    "punctuation_count = []\n",
    "\n",
    "for text in dataset[\"discourse_text\"]:\n",
    "    # da forma compatta a forma estesa: i'm -> i am\n",
    "    text = re.sub(r\"what's\", \"what is \", text)\n",
    "    text = re.sub(r\"\\'s\", \" \", text)\n",
    "    text = re.sub(r\"\\'ve\", \" have \", text)\n",
    "    text = re.sub(r\"n't\", \" not \", text)\n",
    "    text = re.sub(r\"i'm\", \"i am \", text)\n",
    "    text = re.sub(r\"\\'re\", \" are \", text)\n",
    "    text = re.sub(r\"\\'d\", \" would \", text)\n",
    "    text = re.sub(r\"\\'ll\", \" will \", text)\n",
    "    \n",
    "    # rimozione delle stopwords\n",
    "    nostops_text = re.sub(stops_regex, '', text)\n",
    "\n",
    "    chars = len(nostops_text)\n",
    "    words = len(re.split(r'\\b\\W+\\b', nostops_text))\n",
    "    punctuation = len(re.findall(r\"[^\\w\\s ']\", nostops_text))\n",
    "    \n",
    "    no_stops.append(nostops_text)\n",
    "    chars_count.append(chars)\n",
    "    words_count.append(words)\n",
    "    punctuation_count.append(punctuation)\n",
    "\n",
    "dataset[\"discourse_nostops\"] = pd.Series(no_stops)\n",
    "dataset[\"discourse_chars_count\"] = pd.Series(chars_count)\n",
    "dataset[\"discourse_words_count\"] = pd.Series(words_count)\n",
    "dataset[\"discourse_punctuation_count\"] = pd.Series(punctuation_count)\n",
    "\n",
    "series_data = []\n",
    "for cls in dataset[\"discourse_effectiveness\"].unique():\n",
    "    chars_mean = round(dataset[dataset.discourse_effectiveness==cls][\"discourse_chars_count\"].sum()/len(dataset[dataset.discourse_effectiveness==cls]))\n",
    "    words_mean = round(dataset[dataset.discourse_effectiveness==cls][\"discourse_words_count\"].sum()/len(dataset[dataset.discourse_effectiveness==cls]))\n",
    "    punctuation_count_mean = round(dataset[dataset.discourse_effectiveness==cls][\"discourse_punctuation_count\"].sum()/len(dataset[dataset.discourse_effectiveness==cls]))\n",
    "    punctuation_percent_mean = round(punctuation_count_mean / chars_mean * 100, 3)\n",
    "\n",
    "    series_data.append([chars_mean, words_mean, punctuation_count_mean, punctuation_percent_mean])\n",
    "\n",
    "# creo un nuovo dataframe per visualizzare meglio i dati\n",
    "df_stat_nostops = pd.DataFrame(series_data, columns=['N. Chars', 'N. Words', 'N. Punctuation', 'Punctuation Percent (%)'], index=dataset[\"discourse_effectiveness\"].unique().tolist())"
   ]
  },
  {
   "cell_type": "code",
   "execution_count": 98,
   "id": "5330fb97",
   "metadata": {},
   "outputs": [
    {
     "data": {
      "text/markdown": [
       "### Statistiche CON Stopwrods"
      ],
      "text/plain": [
       "<IPython.core.display.Markdown object>"
      ]
     },
     "metadata": {},
     "output_type": "display_data"
    },
    {
     "data": {
      "text/html": [
       "<div>\n",
       "<style scoped>\n",
       "    .dataframe tbody tr th:only-of-type {\n",
       "        vertical-align: middle;\n",
       "    }\n",
       "\n",
       "    .dataframe tbody tr th {\n",
       "        vertical-align: top;\n",
       "    }\n",
       "\n",
       "    .dataframe thead th {\n",
       "        text-align: right;\n",
       "    }\n",
       "</style>\n",
       "<table border=\"1\" class=\"dataframe\">\n",
       "  <thead>\n",
       "    <tr style=\"text-align: right;\">\n",
       "      <th></th>\n",
       "      <th>N. Chars</th>\n",
       "      <th>N. Words</th>\n",
       "      <th>N. Punctuation</th>\n",
       "      <th>Punctuation Percent (%)</th>\n",
       "    </tr>\n",
       "  </thead>\n",
       "  <tbody>\n",
       "    <tr>\n",
       "      <th>Adequate</th>\n",
       "      <td>193</td>\n",
       "      <td>36</td>\n",
       "      <td>3</td>\n",
       "      <td>1.554</td>\n",
       "    </tr>\n",
       "    <tr>\n",
       "      <th>Ineffective</th>\n",
       "      <td>266</td>\n",
       "      <td>49</td>\n",
       "      <td>4</td>\n",
       "      <td>1.504</td>\n",
       "    </tr>\n",
       "    <tr>\n",
       "      <th>Effective</th>\n",
       "      <td>364</td>\n",
       "      <td>64</td>\n",
       "      <td>6</td>\n",
       "      <td>1.648</td>\n",
       "    </tr>\n",
       "  </tbody>\n",
       "</table>\n",
       "</div>"
      ],
      "text/plain": [
       "             N. Chars  N. Words  N. Punctuation  Punctuation Percent (%)\n",
       "Adequate          193        36               3                    1.554\n",
       "Ineffective       266        49               4                    1.504\n",
       "Effective         364        64               6                    1.648"
      ]
     },
     "metadata": {},
     "output_type": "display_data"
    },
    {
     "data": {
      "text/markdown": [
       "### Statistiche SENZA Stopwrods"
      ],
      "text/plain": [
       "<IPython.core.display.Markdown object>"
      ]
     },
     "metadata": {},
     "output_type": "display_data"
    },
    {
     "data": {
      "text/html": [
       "<div>\n",
       "<style scoped>\n",
       "    .dataframe tbody tr th:only-of-type {\n",
       "        vertical-align: middle;\n",
       "    }\n",
       "\n",
       "    .dataframe tbody tr th {\n",
       "        vertical-align: top;\n",
       "    }\n",
       "\n",
       "    .dataframe thead th {\n",
       "        text-align: right;\n",
       "    }\n",
       "</style>\n",
       "<table border=\"1\" class=\"dataframe\">\n",
       "  <thead>\n",
       "    <tr style=\"text-align: right;\">\n",
       "      <th></th>\n",
       "      <th>N. Chars</th>\n",
       "      <th>N. Words</th>\n",
       "      <th>N. Punctuation</th>\n",
       "      <th>Punctuation Percent (%)</th>\n",
       "    </tr>\n",
       "  </thead>\n",
       "  <tbody>\n",
       "    <tr>\n",
       "      <th>Adequate</th>\n",
       "      <td>144</td>\n",
       "      <td>19</td>\n",
       "      <td>3</td>\n",
       "      <td>2.083</td>\n",
       "    </tr>\n",
       "    <tr>\n",
       "      <th>Ineffective</th>\n",
       "      <td>199</td>\n",
       "      <td>26</td>\n",
       "      <td>4</td>\n",
       "      <td>2.010</td>\n",
       "    </tr>\n",
       "    <tr>\n",
       "      <th>Effective</th>\n",
       "      <td>276</td>\n",
       "      <td>34</td>\n",
       "      <td>6</td>\n",
       "      <td>2.174</td>\n",
       "    </tr>\n",
       "  </tbody>\n",
       "</table>\n",
       "</div>"
      ],
      "text/plain": [
       "             N. Chars  N. Words  N. Punctuation  Punctuation Percent (%)\n",
       "Adequate          144        19               3                    2.083\n",
       "Ineffective       199        26               4                    2.010\n",
       "Effective         276        34               6                    2.174"
      ]
     },
     "metadata": {},
     "output_type": "display_data"
    },
    {
     "data": {
      "text/markdown": [
       "### Differenza Senza - Con"
      ],
      "text/plain": [
       "<IPython.core.display.Markdown object>"
      ]
     },
     "metadata": {},
     "output_type": "display_data"
    },
    {
     "data": {
      "text/html": [
       "<div>\n",
       "<style scoped>\n",
       "    .dataframe tbody tr th:only-of-type {\n",
       "        vertical-align: middle;\n",
       "    }\n",
       "\n",
       "    .dataframe tbody tr th {\n",
       "        vertical-align: top;\n",
       "    }\n",
       "\n",
       "    .dataframe thead th {\n",
       "        text-align: right;\n",
       "    }\n",
       "</style>\n",
       "<table border=\"1\" class=\"dataframe\">\n",
       "  <thead>\n",
       "    <tr style=\"text-align: right;\">\n",
       "      <th></th>\n",
       "      <th>N. Chars</th>\n",
       "      <th>N. Words</th>\n",
       "      <th>N. Punctuation</th>\n",
       "      <th>Punctuation Percent (%)</th>\n",
       "    </tr>\n",
       "  </thead>\n",
       "  <tbody>\n",
       "    <tr>\n",
       "      <th>Adequate</th>\n",
       "      <td>-49</td>\n",
       "      <td>-17</td>\n",
       "      <td>0</td>\n",
       "      <td>0.529</td>\n",
       "    </tr>\n",
       "    <tr>\n",
       "      <th>Ineffective</th>\n",
       "      <td>-67</td>\n",
       "      <td>-23</td>\n",
       "      <td>0</td>\n",
       "      <td>0.506</td>\n",
       "    </tr>\n",
       "    <tr>\n",
       "      <th>Effective</th>\n",
       "      <td>-88</td>\n",
       "      <td>-30</td>\n",
       "      <td>0</td>\n",
       "      <td>0.526</td>\n",
       "    </tr>\n",
       "  </tbody>\n",
       "</table>\n",
       "</div>"
      ],
      "text/plain": [
       "             N. Chars  N. Words  N. Punctuation  Punctuation Percent (%)\n",
       "Adequate          -49       -17               0                    0.529\n",
       "Ineffective       -67       -23               0                    0.506\n",
       "Effective         -88       -30               0                    0.526"
      ]
     },
     "metadata": {},
     "output_type": "display_data"
    }
   ],
   "source": [
    "display(Markdown(\"### Statistiche CON Stopwrods\"))\n",
    "display(df_stat_stops.head())\n",
    "\n",
    "display(Markdown(\"### Statistiche SENZA Stopwrods\"))\n",
    "display(df_stat_nostops.head())\n",
    "\n",
    "display(Markdown(\"### Differenza Senza - Con\"))\n",
    "display(df_stat_nostops - df_stat_stops)"
   ]
  },
  {
   "cell_type": "markdown",
   "id": "7ccb537e",
   "metadata": {},
   "source": [
    "## PreProcessing Dataset"
   ]
  },
  {
   "cell_type": "markdown",
   "id": "850beebb",
   "metadata": {},
   "source": [
    "Inizio la preparazione del staset andando a convertire le classi della colonna `discourse_effectiveness` in valori univoci (`int`) per poterli poi passare al modello con più semplicità."
   ]
  },
  {
   "cell_type": "code",
   "execution_count": 19,
   "id": "ab7348f4",
   "metadata": {},
   "outputs": [],
   "source": [
    "def words_to_indices(words: pd.Series) -> list:\n",
    "    \"\"\"\n",
    "        Questa funzione va ad assegnare un ID unico (parte da 0) ad ogni elemento della serice (colonna)\n",
    "        che gli viene passato.\n",
    "\n",
    "        E.g.\n",
    "            input:  pd.Series(['a', 'b', 'a', 'c', 'd', 'c'])\n",
    "            output: [(0, 'a'), (1, 'b'), (2, 'c'), (3, 'd')]\n",
    "    \"\"\"\n",
    "\n",
    "    enumeration = enumerate(words.unique()) # prende ogni elemento 1 sola volta\n",
    "                                            # funzione unique() fa si che ad ogni run l'ordine della parole sia lo stesso\n",
    "                                            # a differenza di set()\n",
    "    \n",
    "    return list(enumeration)\n"
   ]
  },
  {
   "cell_type": "code",
   "execution_count": 20,
   "id": "7dca914b",
   "metadata": {},
   "outputs": [],
   "source": [
    "# assegna degli indici univoci alle classi della colonna discourse_effectiveness\n",
    "effectiveness_label_index = words_to_indices(dataset[\"discourse_effectiveness\"])\n",
    "\n",
    "# creo le due nuove colonne\n",
    "dataset[\"effectiveness_label\"] = dataset['discourse_effectiveness']\n",
    "\n",
    "# rimpiazzo gli elementi dalle nuove colonne con quelli corretti (gli indici numerici)\n",
    "for new_value, old_value in effectiveness_label_index:\n",
    "    dataset[\"effectiveness_label\"].replace(old_value, new_value, inplace=True)"
   ]
  },
  {
   "cell_type": "markdown",
   "id": "1a7d4ca4",
   "metadata": {},
   "source": [
    "Definisco la configurazione base per il modello di Embedding **BERT** ed altri parametri per il dataset"
   ]
  },
  {
   "cell_type": "code",
   "execution_count": 21,
   "id": "621e49e2",
   "metadata": {},
   "outputs": [],
   "source": [
    "# Bert Configuration\n",
    "AUTO = tf.data.experimental.AUTOTUNE\n",
    "MAX_LEN = 256\n",
    "EPOCHS = 3\n",
    "BATCH_SIZE = 12"
   ]
  },
  {
   "cell_type": "code",
   "execution_count": 22,
   "id": "af345d2c",
   "metadata": {},
   "outputs": [],
   "source": [
    "# Definizione del modello di encoding con Bert\n",
    "def bert_encode(texts, tokenizer, max_len=MAX_LEN):\n",
    "    input_ids      = []\n",
    "    token_type_ids = []\n",
    "    attention_mask = []\n",
    "    \n",
    "    for text in texts:\n",
    "        token = tokenizer(\n",
    "            text, \n",
    "            max_length=max_len, \n",
    "            truncation=True, \n",
    "            padding='max_length',\n",
    "            add_special_tokens=True\n",
    "            )\n",
    "        input_ids.append(token['input_ids'])\n",
    "        token_type_ids.append(token['token_type_ids'])\n",
    "        attention_mask.append(token['attention_mask'])\n",
    "    \n",
    "    return np.array(input_ids), np.array(token_type_ids), np.array(attention_mask)"
   ]
  },
  {
   "cell_type": "code",
   "execution_count": 23,
   "id": "2b7892da",
   "metadata": {},
   "outputs": [],
   "source": [
    "from transformers import AutoTokenizer\n",
    "\n",
    "tokenizer = AutoTokenizer.from_pretrained(\"bert-base-cased\")"
   ]
  },
  {
   "cell_type": "code",
   "execution_count": 24,
   "id": "627dcb40",
   "metadata": {},
   "outputs": [
    {
     "data": {
      "text/plain": [
       "'[SEP]'"
      ]
     },
     "execution_count": 24,
     "metadata": {},
     "output_type": "execute_result"
    }
   ],
   "source": [
    "sep = tokenizer.sep_token\n",
    "sep"
   ]
  },
  {
   "cell_type": "markdown",
   "id": "7baef147",
   "metadata": {},
   "source": [
    "Vado ad aggiungre una nuova colonna al dataset dove andrò a concatenare il dipo del discorso ed il discorso stesso (unisco le colonne `discourse_type` e `discourse_text`) tramite un carattere **separatore** che BERT sarà in grado di riconoscere."
   ]
  },
  {
   "cell_type": "code",
   "execution_count": 25,
   "id": "3b79c578",
   "metadata": {},
   "outputs": [
    {
     "data": {
      "text/html": [
       "<div>\n",
       "<style scoped>\n",
       "    .dataframe tbody tr th:only-of-type {\n",
       "        vertical-align: middle;\n",
       "    }\n",
       "\n",
       "    .dataframe tbody tr th {\n",
       "        vertical-align: top;\n",
       "    }\n",
       "\n",
       "    .dataframe thead th {\n",
       "        text-align: right;\n",
       "    }\n",
       "</style>\n",
       "<table border=\"1\" class=\"dataframe\">\n",
       "  <thead>\n",
       "    <tr style=\"text-align: right;\">\n",
       "      <th></th>\n",
       "      <th>discourse_id</th>\n",
       "      <th>essay_id</th>\n",
       "      <th>discourse_text</th>\n",
       "      <th>discourse_type</th>\n",
       "      <th>discourse_effectiveness</th>\n",
       "      <th>discourse_chars_count</th>\n",
       "      <th>discourse_words_count</th>\n",
       "      <th>discourse_punctuation_count</th>\n",
       "      <th>discourse_nostops</th>\n",
       "      <th>effectiveness_label</th>\n",
       "      <th>inputs</th>\n",
       "      <th>inputs_nostops</th>\n",
       "    </tr>\n",
       "  </thead>\n",
       "  <tbody>\n",
       "    <tr>\n",
       "      <th>0</th>\n",
       "      <td>0013cc385424</td>\n",
       "      <td>007ACE74B050</td>\n",
       "      <td>Hi, i'm Isaac, i'm going to be writing about h...</td>\n",
       "      <td>Lead</td>\n",
       "      <td>Adequate</td>\n",
       "      <td>220</td>\n",
       "      <td>28</td>\n",
       "      <td>6</td>\n",
       "      <td>Hi,    Isaac,    going   writing    face  Mars...</td>\n",
       "      <td>0</td>\n",
       "      <td>Lead[SEP]Hi, i'm Isaac, i'm going to be writin...</td>\n",
       "      <td>Lead[SEP]Hi,    Isaac,    going   writing    f...</td>\n",
       "    </tr>\n",
       "    <tr>\n",
       "      <th>1</th>\n",
       "      <td>9704a709b505</td>\n",
       "      <td>007ACE74B050</td>\n",
       "      <td>On my perspective, I think that the face is a ...</td>\n",
       "      <td>Position</td>\n",
       "      <td>Adequate</td>\n",
       "      <td>147</td>\n",
       "      <td>21</td>\n",
       "      <td>3</td>\n",
       "      <td>On  perspective, I think   face   natural land...</td>\n",
       "      <td>0</td>\n",
       "      <td>Position[SEP]On my perspective, I think that t...</td>\n",
       "      <td>Position[SEP]On  perspective, I think   face  ...</td>\n",
       "    </tr>\n",
       "    <tr>\n",
       "      <th>2</th>\n",
       "      <td>c22adee811b6</td>\n",
       "      <td>007ACE74B050</td>\n",
       "      <td>I think that the face is a natural landform be...</td>\n",
       "      <td>Claim</td>\n",
       "      <td>Adequate</td>\n",
       "      <td>67</td>\n",
       "      <td>9</td>\n",
       "      <td>0</td>\n",
       "      <td>I think   face   natural landform     life  Ma...</td>\n",
       "      <td>0</td>\n",
       "      <td>Claim[SEP]I think that the face is a natural l...</td>\n",
       "      <td>Claim[SEP]I think   face   natural landform   ...</td>\n",
       "    </tr>\n",
       "    <tr>\n",
       "      <th>3</th>\n",
       "      <td>a10d361e54e4</td>\n",
       "      <td>007ACE74B050</td>\n",
       "      <td>If life was on Mars, we would know by now. The...</td>\n",
       "      <td>Evidence</td>\n",
       "      <td>Adequate</td>\n",
       "      <td>266</td>\n",
       "      <td>36</td>\n",
       "      <td>11</td>\n",
       "      <td>If life   Mars,  would know  . The reason  I t...</td>\n",
       "      <td>0</td>\n",
       "      <td>Evidence[SEP]If life was on Mars, we would kno...</td>\n",
       "      <td>Evidence[SEP]If life   Mars,  would know  . Th...</td>\n",
       "    </tr>\n",
       "    <tr>\n",
       "      <th>4</th>\n",
       "      <td>db3e453ec4e2</td>\n",
       "      <td>007ACE74B050</td>\n",
       "      <td>People thought that the face was formed by ali...</td>\n",
       "      <td>Counterclaim</td>\n",
       "      <td>Adequate</td>\n",
       "      <td>64</td>\n",
       "      <td>8</td>\n",
       "      <td>1</td>\n",
       "      <td>People thought   face  formed  alieans   thoug...</td>\n",
       "      <td>0</td>\n",
       "      <td>Counterclaim[SEP]People thought that the face ...</td>\n",
       "      <td>Counterclaim[SEP]People thought   face  formed...</td>\n",
       "    </tr>\n",
       "  </tbody>\n",
       "</table>\n",
       "</div>"
      ],
      "text/plain": [
       "   discourse_id      essay_id  \\\n",
       "0  0013cc385424  007ACE74B050   \n",
       "1  9704a709b505  007ACE74B050   \n",
       "2  c22adee811b6  007ACE74B050   \n",
       "3  a10d361e54e4  007ACE74B050   \n",
       "4  db3e453ec4e2  007ACE74B050   \n",
       "\n",
       "                                      discourse_text discourse_type  \\\n",
       "0  Hi, i'm Isaac, i'm going to be writing about h...           Lead   \n",
       "1  On my perspective, I think that the face is a ...       Position   \n",
       "2  I think that the face is a natural landform be...          Claim   \n",
       "3  If life was on Mars, we would know by now. The...       Evidence   \n",
       "4  People thought that the face was formed by ali...   Counterclaim   \n",
       "\n",
       "  discourse_effectiveness  discourse_chars_count  discourse_words_count  \\\n",
       "0                Adequate                    220                     28   \n",
       "1                Adequate                    147                     21   \n",
       "2                Adequate                     67                      9   \n",
       "3                Adequate                    266                     36   \n",
       "4                Adequate                     64                      8   \n",
       "\n",
       "   discourse_punctuation_count  \\\n",
       "0                            6   \n",
       "1                            3   \n",
       "2                            0   \n",
       "3                           11   \n",
       "4                            1   \n",
       "\n",
       "                                   discourse_nostops  effectiveness_label  \\\n",
       "0  Hi,    Isaac,    going   writing    face  Mars...                    0   \n",
       "1  On  perspective, I think   face   natural land...                    0   \n",
       "2  I think   face   natural landform     life  Ma...                    0   \n",
       "3  If life   Mars,  would know  . The reason  I t...                    0   \n",
       "4  People thought   face  formed  alieans   thoug...                    0   \n",
       "\n",
       "                                              inputs  \\\n",
       "0  Lead[SEP]Hi, i'm Isaac, i'm going to be writin...   \n",
       "1  Position[SEP]On my perspective, I think that t...   \n",
       "2  Claim[SEP]I think that the face is a natural l...   \n",
       "3  Evidence[SEP]If life was on Mars, we would kno...   \n",
       "4  Counterclaim[SEP]People thought that the face ...   \n",
       "\n",
       "                                      inputs_nostops  \n",
       "0  Lead[SEP]Hi,    Isaac,    going   writing    f...  \n",
       "1  Position[SEP]On  perspective, I think   face  ...  \n",
       "2  Claim[SEP]I think   face   natural landform   ...  \n",
       "3  Evidence[SEP]If life   Mars,  would know  . Th...  \n",
       "4  Counterclaim[SEP]People thought   face  formed...  "
      ]
     },
     "execution_count": 25,
     "metadata": {},
     "output_type": "execute_result"
    }
   ],
   "source": [
    "# genera una nuova colonna includendo 'discourse_type' all'interno del testo da analizzare\n",
    "dataset['inputs'] = dataset.discourse_type + sep + dataset.discourse_text\n",
    "dataset['inputs_nostops'] = dataset.discourse_type + sep + dataset.discourse_nostops\n",
    "dataset.head()"
   ]
  },
  {
   "cell_type": "markdown",
   "id": "52c1553a",
   "metadata": {},
   "source": [
    "Suddivido il dataset in una parte di **training** e una parte di **valdation**"
   ]
  },
  {
   "cell_type": "markdown",
   "id": "01e2ab32",
   "metadata": {},
   "source": [
    "Vado ad applicare BERT all'input per codificarlo in modo tale da essere passato al modello"
   ]
  },
  {
   "cell_type": "code",
   "execution_count": 26,
   "id": "c54502a3",
   "metadata": {},
   "outputs": [],
   "source": [
    "from sklearn.model_selection import GroupShuffleSplit\n",
    "\n",
    "\n",
    "X = dataset[[\"essay_id\", \"inputs\", \"inputs_nostops\"]]\n",
    "y= dataset[\"effectiveness_label\"]\n",
    "\n",
    "gs = GroupShuffleSplit(n_splits=3, test_size=.2, random_state=420)  # fa si che tutti gli elementi di un testo rimangano nello stesso set\n",
    "train_ix, test_ix = next(gs.split(X, y, groups=X.essay_id))\n",
    "\n",
    "X_train = X.loc[train_ix]\n",
    "y_train = y.loc[train_ix]\n",
    "\n",
    "X_test = X.loc[test_ix]\n",
    "y_test = y.loc[test_ix]\n",
    "\n",
    "# CON STOPWORDS\n",
    "x_train = X_train[\"inputs\"]\n",
    "x_test = X_test[\"inputs\"]\n",
    "\n",
    "# SENZA STOPWORDS\n",
    "x_train_nostops = X_train[\"inputs_nostops\"]\n",
    "x_test_nostops = X_test[\"inputs_nostops\"]\n"
   ]
  },
  {
   "cell_type": "code",
   "execution_count": 27,
   "id": "b74ce3c2",
   "metadata": {},
   "outputs": [
    {
     "name": "stdout",
     "output_type": "stream",
     "text": [
      "Lead[SEP]Hi, i'm Isaac, i'm going to be writing about how this face on Mars is a natural landform or if there is life on Mars that made it. The story is about how NASA took a picture of Mars and a face was seen on the planet. NASA doesn't know if the landform was created by life on Mars, or if it is just a natural landform. \n",
      "Lead[SEP]Hi,    Isaac,    going   writing    face  Mars   natural landform     life  Mars  made . The story    NASA took  picture  Mars   face  seen   planet. NASA    know   landform  created  life  Mars,       natural landform. \n",
      "0\n"
     ]
    }
   ],
   "source": [
    "print(x_train[0])\n",
    "print(x_train_nostops[0])\n",
    "print(y_train[0])"
   ]
  },
  {
   "cell_type": "code",
   "execution_count": 28,
   "id": "a0f2a174",
   "metadata": {},
   "outputs": [],
   "source": [
    "# CON STOPWORDS\n",
    "x_train = bert_encode(x_train.astype(str), tokenizer)\n",
    "x_test = bert_encode(x_test.astype(str), tokenizer)\n",
    "\n",
    "y_train = y_train.values\n",
    "y_test = y_test.values\n",
    "\n",
    "# SENZA STOPWORDS\n",
    "x_train_nostops = bert_encode(x_train_nostops.astype(str), tokenizer)\n",
    "x_test_nostops = bert_encode(x_test_nostops.astype(str), tokenizer)\n",
    "\n",
    "y_train_nostops = y_train\n",
    "y_test_nostops = y_test"
   ]
  },
  {
   "cell_type": "markdown",
   "id": "cd883d32",
   "metadata": {},
   "source": [
    "Vado a creare i dataset finali di training e validation tramite le API di tensorflow"
   ]
  },
  {
   "cell_type": "markdown",
   "id": "475cffb2",
   "metadata": {},
   "source": [
    "## Model Selection"
   ]
  },
  {
   "cell_type": "code",
   "execution_count": 29,
   "id": "4a64dd92",
   "metadata": {},
   "outputs": [],
   "source": [
    "import json\n",
    "from tensorflow import keras\n",
    "from keras.layers import Dense, LSTM, Dropout, Flatten, Input, MaxPooling1D, Conv1D\n",
    "from keras.models import Model\n",
    "from transformers import TFBertModel\n",
    "from keras import backend as K\n",
    "from keras.callbacks import EarlyStopping, ModelCheckpoint"
   ]
  },
  {
   "cell_type": "markdown",
   "id": "45361dd6",
   "metadata": {},
   "source": [
    "Scrivo una funzione che mi aiuta ad allenare e testare i varo modelli che creerò per poter scegliere il migliore"
   ]
  },
  {
   "cell_type": "code",
   "execution_count": 32,
   "id": "d27b9f39",
   "metadata": {},
   "outputs": [],
   "source": [
    "def train_and_plot(model_builder: callable, model_version: str, batch_size=BATCH_SIZE, epochs=30, patience=10, steps_per_epoch=100, remove_stopwards=False):\n",
    "    # pulisce la sessione di Keras permettendomi di caricare in memoria modelli in successione\n",
    "    K.clear_session()\n",
    "    # imposto il seed al valore iniziale per far si che tutti gli allenamenti risultino uguali\n",
    "    tf.keras.utils.set_random_seed(SEED)\n",
    "    \n",
    "    model = model_builder()\n",
    "    model.summary()\n",
    "\n",
    "    keras.utils.plot_model(model, f\"./BRUN0-Net-{model_version}.png\") # salva la foto del modello\n",
    "\n",
    "    # --- SCELTA STOPWORDS ---\n",
    "    if remove_stopwards:\n",
    "        train = x_train_nostops\n",
    "        test = x_test_nostops\n",
    "        print('no stops')\n",
    "    else:\n",
    "        train = x_train\n",
    "        test = x_test\n",
    "        print('stop')\n",
    "    \n",
    "    # --- DATASET ---\n",
    "    train_dataset = (\n",
    "        tf.data.Dataset\n",
    "        .from_tensor_slices((train, y_train))\n",
    "        .repeat()\n",
    "        .shuffle(2048)\n",
    "        .batch(batch_size)\n",
    "        .prefetch(AUTO)\n",
    "    )\n",
    "\n",
    "    test_dataset = (\n",
    "        tf.data.Dataset\n",
    "        .from_tensor_slices((test, y_test))\n",
    "        .batch(batch_size)\n",
    "        .cache()\n",
    "        .prefetch(AUTO)\n",
    "    )\n",
    "\n",
    "    # --- CALLBACKS ---\n",
    "    model_filepath = f'BRUN0-Net-{model_version}.h5'\n",
    "\n",
    "    # Early Stopping:  ferma la fase di trainign quando la val_los non migliora per {patience} epoche\n",
    "    es = EarlyStopping(\n",
    "        monitor='val_loss', \n",
    "        mode='min', \n",
    "        verbose=1, \n",
    "        patience=patience\n",
    "    )\n",
    "\n",
    "    # Salva il modello su file quando migliora la val_los\n",
    "    save_best = ModelCheckpoint(\n",
    "        model_filepath, \n",
    "        monitor='val_loss', \n",
    "        save_best_only=True, \n",
    "        mode='min', \n",
    "        verbose=1\n",
    "    ) \n",
    "\n",
    "    # --- TRAINING ---\n",
    "    history = model.fit(\n",
    "        train_dataset,\n",
    "        validation_data=test_dataset, \n",
    "        epochs=epochs, \n",
    "        verbose=True, \n",
    "        steps_per_epoch=steps_per_epoch,\n",
    "        callbacks=[es, save_best]\n",
    "    )\n",
    "\n",
    "    # --- HISTORY ---\n",
    "    history_dict = history.history\n",
    "    json.dump(history_dict, open(f'./history_save-{model_version}.bk', 'w'))\n",
    "\n",
    "    # utile per quando serve ricaricare il file history in memoria\n",
    "    # history_dict = json.load(open('./history_save.bk', 'r'))\n",
    "\n",
    "    # --- GRAFICI ALLENAMENTO ---\n",
    "    # accuracy\n",
    "    plt.plot(history.history['accuracy'])\n",
    "    plt.plot(history.history['val_accuracy'])\n",
    "    plt.title('model accuracy')\n",
    "    plt.ylabel('accuracy')\n",
    "    plt.xlabel('epoch')\n",
    "    plt.legend(['train', 'val'], loc='upper left')\n",
    "    plt.show()\n",
    "\n",
    "    # loss\n",
    "    plt.plot(history.history['loss'])\n",
    "    plt.plot(history.history['val_loss'])\n",
    "    plt.title('model loss')\n",
    "    plt.ylabel('loss')\n",
    "    plt.xlabel('epoch')\n",
    "    plt.legend(['train', 'val'], loc='upper left')\n",
    "    plt.show()"
   ]
  },
  {
   "cell_type": "code",
   "execution_count": 33,
   "id": "88f3c525",
   "metadata": {},
   "outputs": [],
   "source": [
    "# TODO: i modelli vanno riallenati TUTTI !!!"
   ]
  },
  {
   "cell_type": "markdown",
   "id": "ee0da1e9",
   "metadata": {},
   "source": [
    "### Primo Allenamento"
   ]
  },
  {
   "cell_type": "markdown",
   "id": "ce557404",
   "metadata": {},
   "source": [
    "Spieghino del problema che abbiamo avuto con ADAM"
   ]
  },
  {
   "cell_type": "markdown",
   "id": "17596c3f",
   "metadata": {},
   "source": [
    "#### Model Alpha $\\alpha$"
   ]
  },
  {
   "cell_type": "markdown",
   "id": "e9fd7dd5",
   "metadata": {},
   "source": [
    "Tramite le API di tesnorflow e Keras e sfruttando il paradigma (??) Funzionale, vado a definire il modello.\n",
    "Utilizzo il paradigma funzionale perchè è l'unico che permette di avere molteplici input e per ognuno la possibilità di passarlo ad un diverso layer."
   ]
  },
  {
   "cell_type": "code",
   "execution_count": 31,
   "id": "3bce939a",
   "metadata": {},
   "outputs": [],
   "source": [
    "def alpha_model_builder(max_len=MAX_LEN):  \n",
    "    # --- INPUTS ---\n",
    "    input_ids       = Input(shape=(max_len,), dtype=tf.int32, name=\"input_ids\")\n",
    "    token_type_ids  = Input(shape=(max_len,), dtype=tf.int32, name=\"token_type_ids\")\n",
    "    attention_mask  = Input(shape=(max_len,), dtype=tf.int32, name=\"attention_mask\")\n",
    "\n",
    "    # --- BERT WORLD EMBEDDING ---\n",
    "    bert_model = TFBertModel.from_pretrained(\"bert-base-cased\")\n",
    "    sequence_output = bert_model(input_ids, token_type_ids=token_type_ids, attention_mask=attention_mask)[0]\n",
    "    \n",
    "    # --- MIDDEL LAYER ---\n",
    "    conv_1      = Conv1D(256, 5, activation='relu', name=\"conv_1\")(sequence_output)\n",
    "    conv_2      = Conv1D(64, 5, activation='relu', name=\"conv_2\")(conv_1)\n",
    "    max_pool_1  = MaxPooling1D(pool_size=3, name=\"maxpooling\")(conv_2)\n",
    "\n",
    "    flatten = Flatten()(max_pool_1)\n",
    "    \n",
    "    # --- CLASSIFICATORE ---\n",
    "    net  = Dropout(.1, name=\"dropout_1\")(flatten)\n",
    "    net  = Dense(124, activation='relu', name=\"dense_1\")(net)\n",
    "    net  = Dropout(.1, name=\"dropout_2\")(net)\n",
    "    net  = Dense(32, activation='relu', name=\"dense_2\")(net)\n",
    "\n",
    "    # --- OUTPUT ---\n",
    "    out = Dense(3, activation='softmax', name=\"output\")(net)\n",
    "    \n",
    "    model = Model(inputs=[input_ids, token_type_ids, attention_mask], outputs=out)\n",
    "    model.compile(optimizer=\"adam\", loss =\"sparse_categorical_crossentropy\", metrics = [\"accuracy\"] )\n",
    "    \n",
    "    return model\n"
   ]
  },
  {
   "cell_type": "code",
   "execution_count": null,
   "id": "4d1b67c1",
   "metadata": {},
   "outputs": [],
   "source": [
    "train_and_plot(alpha_model_builder, 'alpha')"
   ]
  },
  {
   "cell_type": "markdown",
   "id": "ac0144d0",
   "metadata": {},
   "source": [
    "#### Model Beta $\\beta$"
   ]
  },
  {
   "cell_type": "code",
   "execution_count": 19,
   "id": "04c7c632",
   "metadata": {},
   "outputs": [],
   "source": [
    "def beta_model_builder(max_len=MAX_LEN):  \n",
    "    # --- INPUTS ---\n",
    "    input_ids       = Input(shape=(max_len,), dtype=tf.int32, name=\"input_ids\")\n",
    "    token_type_ids  = Input(shape=(max_len,), dtype=tf.int32, name=\"token_type_ids\")\n",
    "    attention_mask  = Input(shape=(max_len,), dtype=tf.int32, name=\"attention_mask\")\n",
    "\n",
    "    # --- BERT WORLD EMBEDDING ---\n",
    "    bert_model = TFBertModel.from_pretrained(\"bert-base-cased\")\n",
    "    sequence_output = bert_model(input_ids, token_type_ids=token_type_ids, attention_mask=attention_mask)[0]\n",
    "    \n",
    "    # --- MIDDEL LAYER ---\n",
    "    conv_1      = Conv1D(512, 5, activation='relu', name=\"conv_1\")(sequence_output)\n",
    "    conv_2      = Conv1D(256, 5, activation='relu', name=\"conv_2\")(conv_1)\n",
    "    conv_3      = Conv1D(128, 5, activation='relu', name=\"conv_3\")(conv_2)\n",
    "    conv_4      = Conv1D(64, 5, activation='relu', name=\"conv_4\")(conv_3)\n",
    "    max_pool_1  = MaxPooling1D(pool_size=3, name=\"maxpooling\")(conv_4)\n",
    "\n",
    "    flatten = Flatten()(max_pool_1)\n",
    "    \n",
    "    # --- CLASSIFICATORE ---\n",
    "    net  = Dropout(.2, name=\"dropout_1\")(flatten)\n",
    "    net  = Dense(126, activation='relu', name=\"dense_1\")(net)\n",
    "    net  = Dropout(.2, name=\"dropout_2\")(net)\n",
    "    net  = Dense(64, activation='relu', name=\"dense_2\")(net)\n",
    "    net  = Dropout(.1, name=\"dropout_3\")(net)\n",
    "    net  = Dense(32, activation='relu', name=\"dense_3\")(net)\n",
    "    net  = Dropout(.1, name=\"dropout_4\")(net)\n",
    "    net  = Dense(16, activation='relu', name=\"dense_4\")(net)\n",
    "\n",
    "    # --- OUTPUT ---\n",
    "    out = Dense(3, activation='softmax', name=\"output\")(net)\n",
    "    \n",
    "    model = Model(inputs=[input_ids, token_type_ids, attention_mask], outputs=out)\n",
    "    model.compile(optimizer=\"adam\", loss =\"sparse_categorical_crossentropy\", metrics = [\"accuracy\"] )\n",
    "    \n",
    "    return model"
   ]
  },
  {
   "cell_type": "code",
   "execution_count": null,
   "id": "03984d0a",
   "metadata": {},
   "outputs": [],
   "source": [
    "train_and_plot(beta_model_builder, 'beta', batch_size=8)"
   ]
  },
  {
   "cell_type": "markdown",
   "id": "d55b50a4",
   "metadata": {},
   "source": [
    "#### Model Gamma $\\gamma$"
   ]
  },
  {
   "cell_type": "code",
   "execution_count": 14,
   "id": "430aa668",
   "metadata": {},
   "outputs": [],
   "source": [
    "def gamma_model_builder(max_len=MAX_LEN):  \n",
    "    # --- INPUTS ---\n",
    "    input_ids       = Input(shape=(max_len,), dtype=tf.int32, name=\"input_ids\")\n",
    "    token_type_ids  = Input(shape=(max_len,), dtype=tf.int32, name=\"token_type_ids\")\n",
    "    attention_mask  = Input(shape=(max_len,), dtype=tf.int32, name=\"attention_mask\")\n",
    "\n",
    "    # --- BERT WORLD EMBEDDING ---\n",
    "    bert_model = TFBertModel.from_pretrained(\"bert-base-cased\")\n",
    "    sequence_output = bert_model(input_ids, token_type_ids=token_type_ids, attention_mask=attention_mask)[0]\n",
    "\n",
    "    flatten = Flatten()(sequence_output)\n",
    "    \n",
    "    # --- CLASSIFICATORE ---\n",
    "    # net  = Dense(126, activation='relu', name=\"dense_1\")(flatten)\n",
    "    net  = Dense(64, activation='relu', name=\"dense_2\")(flatten)\n",
    "    net  = Dense(32, activation='relu', name=\"dense_3\")(net)\n",
    "    net  = Dense(16, activation='relu', name=\"dense_4\")(net)\n",
    "\n",
    "    # --- OUTPUT ---\n",
    "    out = Dense(3, activation='softmax', name=\"output\")(net)\n",
    "    \n",
    "    model = Model(inputs=[input_ids, token_type_ids, attention_mask], outputs=out)\n",
    "    model.compile(optimizer=\"adam\", loss =\"sparse_categorical_crossentropy\", metrics = [\"accuracy\"] )\n",
    "    \n",
    "    return model"
   ]
  },
  {
   "cell_type": "code",
   "execution_count": null,
   "id": "5932188a",
   "metadata": {},
   "outputs": [],
   "source": [
    "train_and_plot(gamma_model_builder, 'gamma', batch_size=8)"
   ]
  },
  {
   "cell_type": "markdown",
   "id": "5fd3e9a5",
   "metadata": {},
   "source": [
    "#### Model Delta $\\delta$"
   ]
  },
  {
   "cell_type": "code",
   "execution_count": 14,
   "id": "7b6a7be2",
   "metadata": {},
   "outputs": [],
   "source": [
    "def delta_model_builder(max_len=MAX_LEN):  \n",
    "    # --- INPUTS ---  \n",
    "    input_ids       = Input(shape=(max_len,), dtype=tf.int32, name=\"input_ids\")\n",
    "    token_type_ids  = Input(shape=(max_len,), dtype=tf.int32, name=\"token_type_ids\")\n",
    "    attention_mask  = Input(shape=(max_len,), dtype=tf.int32, name=\"attention_mask\")\n",
    "\n",
    "    # --- BERT WORLD EMBEDDING ---\n",
    "    bert_model = TFBertModel.from_pretrained(\"bert-base-cased\")\n",
    "    sequence_output = bert_model(input_ids, token_type_ids=token_type_ids, attention_mask=attention_mask)[0]\n",
    "\n",
    "    # --- MIDDEL LAYER ---\n",
    "    lstm_1 = LSTM(8, return_sequences=True, name=\"lstm_1\")(sequence_output)\n",
    "    lstm_2 = LSTM(4, name=\"lstm_2\")(lstm_1)\n",
    "\n",
    "    # --- OUTPUT ---\n",
    "    drop_out = Dropout(.1)(lstm_2)\n",
    "    out = Dense(3, activation='softmax', name=\"output\")(drop_out)\n",
    "    \n",
    "    model = Model(inputs=[input_ids, token_type_ids, attention_mask], outputs=out)\n",
    "    model.compile(optimizer=\"adam\", loss =\"sparse_categorical_crossentropy\", metrics = [\"accuracy\"] )\n",
    "    \n",
    "    return model"
   ]
  },
  {
   "cell_type": "code",
   "execution_count": 15,
   "id": "69944c57",
   "metadata": {},
   "outputs": [
    {
     "name": "stderr",
     "output_type": "stream",
     "text": [
      "2022-06-22 14:44:38.921918: I tensorflow/stream_executor/cuda/cuda_gpu_executor.cc:975] successful NUMA node read from SysFS had negative value (-1), but there must be at least one NUMA node, so returning NUMA node zero\n",
      "2022-06-22 14:44:38.927005: I tensorflow/stream_executor/cuda/cuda_gpu_executor.cc:975] successful NUMA node read from SysFS had negative value (-1), but there must be at least one NUMA node, so returning NUMA node zero\n",
      "2022-06-22 14:44:38.927238: I tensorflow/stream_executor/cuda/cuda_gpu_executor.cc:975] successful NUMA node read from SysFS had negative value (-1), but there must be at least one NUMA node, so returning NUMA node zero\n",
      "2022-06-22 14:44:38.927995: I tensorflow/core/platform/cpu_feature_guard.cc:193] This TensorFlow binary is optimized with oneAPI Deep Neural Network Library (oneDNN) to use the following CPU instructions in performance-critical operations:  AVX2 FMA\n",
      "To enable them in other operations, rebuild TensorFlow with the appropriate compiler flags.\n",
      "2022-06-22 14:44:38.929363: I tensorflow/stream_executor/cuda/cuda_gpu_executor.cc:975] successful NUMA node read from SysFS had negative value (-1), but there must be at least one NUMA node, so returning NUMA node zero\n",
      "2022-06-22 14:44:38.929495: I tensorflow/stream_executor/cuda/cuda_gpu_executor.cc:975] successful NUMA node read from SysFS had negative value (-1), but there must be at least one NUMA node, so returning NUMA node zero\n",
      "2022-06-22 14:44:38.929610: I tensorflow/stream_executor/cuda/cuda_gpu_executor.cc:975] successful NUMA node read from SysFS had negative value (-1), but there must be at least one NUMA node, so returning NUMA node zero\n",
      "2022-06-22 14:44:39.162752: I tensorflow/stream_executor/cuda/cuda_gpu_executor.cc:975] successful NUMA node read from SysFS had negative value (-1), but there must be at least one NUMA node, so returning NUMA node zero\n",
      "2022-06-22 14:44:39.162889: I tensorflow/stream_executor/cuda/cuda_gpu_executor.cc:975] successful NUMA node read from SysFS had negative value (-1), but there must be at least one NUMA node, so returning NUMA node zero\n",
      "2022-06-22 14:44:39.162996: I tensorflow/stream_executor/cuda/cuda_gpu_executor.cc:975] successful NUMA node read from SysFS had negative value (-1), but there must be at least one NUMA node, so returning NUMA node zero\n",
      "2022-06-22 14:44:39.163086: I tensorflow/core/common_runtime/gpu/gpu_device.cc:1532] Created device /job:localhost/replica:0/task:0/device:GPU:0 with 9806 MB memory:  -> device: 0, name: NVIDIA GeForce RTX 3060, pci bus id: 0000:2b:00.0, compute capability: 8.6\n",
      "2022-06-22 14:44:40.051989: I tensorflow/stream_executor/cuda/cuda_blas.cc:1786] TensorFloat-32 will be used for the matrix multiplication. This will only be logged once.\n",
      "All model checkpoint layers were used when initializing TFBertForMaskedLM.\n",
      "\n",
      "All the layers of TFBertForMaskedLM were initialized from the model checkpoint at bert-base-cased.\n",
      "If your task is similar to the task the model of the checkpoint was trained on, you can already use TFBertForMaskedLM for predictions without further training.\n"
     ]
    },
    {
     "name": "stdout",
     "output_type": "stream",
     "text": [
      "Model: \"model\"\n",
      "__________________________________________________________________________________________________\n",
      " Layer (type)                   Output Shape         Param #     Connected to                     \n",
      "==================================================================================================\n",
      " input_ids (InputLayer)         [(None, 256)]        0           []                               \n",
      "                                                                                                  \n",
      " attention_mask (InputLayer)    [(None, 256)]        0           []                               \n",
      "                                                                                                  \n",
      " token_type_ids (InputLayer)    [(None, 256)]        0           []                               \n",
      "                                                                                                  \n",
      " tf_bert_for_masked_lm (TFBertF  TFMaskedLMOutput(lo  108340804  ['input_ids[0][0]',              \n",
      " orMaskedLM)                    ss=None, logits=(No               'attention_mask[0][0]',         \n",
      "                                ne, 256, 28996),                  'token_type_ids[0][0]']         \n",
      "                                 hidden_states=None                                               \n",
      "                                , attentions=None)                                                \n",
      "                                                                                                  \n",
      " lstm_1 (LSTM)                  (None, 256, 8)       928160      ['tf_bert_for_masked_lm[0][0]']  \n",
      "                                                                                                  \n",
      " lstm_2 (LSTM)                  (None, 4)            208         ['lstm_1[0][0]']                 \n",
      "                                                                                                  \n",
      " dropout_37 (Dropout)           (None, 4)            0           ['lstm_2[0][0]']                 \n",
      "                                                                                                  \n",
      " output (Dense)                 (None, 3)            15          ['dropout_37[0][0]']             \n",
      "                                                                                                  \n",
      "==================================================================================================\n",
      "Total params: 109,269,187\n",
      "Trainable params: 109,269,187\n",
      "Non-trainable params: 0\n",
      "__________________________________________________________________________________________________\n",
      "huggingface/tokenizers: The current process just got forked, after parallelism has already been used. Disabling parallelism to avoid deadlocks...\n",
      "To disable this warning, you can either:\n",
      "\t- Avoid using `tokenizers` before the fork if possible\n",
      "\t- Explicitly set the environment variable TOKENIZERS_PARALLELISM=(true | false)\n",
      "huggingface/tokenizers: The current process just got forked, after parallelism has already been used. Disabling parallelism to avoid deadlocks...\n",
      "To disable this warning, you can either:\n",
      "\t- Avoid using `tokenizers` before the fork if possible\n",
      "\t- Explicitly set the environment variable TOKENIZERS_PARALLELISM=(true | false)\n",
      "Epoch 1/30\n"
     ]
    },
    {
     "name": "stderr",
     "output_type": "stream",
     "text": [
      "2022-06-22 14:44:51.511705: I tensorflow/stream_executor/cuda/cuda_dnn.cc:384] Loaded cuDNN version 8401\n",
      "Could not load symbol cublasGetSmCountTarget from libcublas.so.11. Error: /usr/local/cuda/lib64/libcublas.so.11: undefined symbol: cublasGetSmCountTarget\n"
     ]
    },
    {
     "name": "stdout",
     "output_type": "stream",
     "text": [
      "100/100 [==============================] - ETA: 0s - loss: 1.0056 - accuracy: 0.5775\n",
      "Epoch 1: val_loss improved from inf to 0.99391, saving model to BRUN0-Net-delta.h5\n",
      "100/100 [==============================] - 140s 1s/step - loss: 1.0056 - accuracy: 0.5775 - val_loss: 0.9939 - val_accuracy: 0.5632\n",
      "Epoch 2/30\n",
      "100/100 [==============================] - ETA: 0s - loss: 0.9672 - accuracy: 0.5908\n",
      "Epoch 2: val_loss improved from 0.99391 to 0.98523, saving model to BRUN0-Net-delta.h5\n",
      "100/100 [==============================] - 131s 1s/step - loss: 0.9672 - accuracy: 0.5908 - val_loss: 0.9852 - val_accuracy: 0.5632\n",
      "Epoch 3/30\n",
      "100/100 [==============================] - ETA: 0s - loss: 1.0011 - accuracy: 0.5450\n",
      "Epoch 3: val_loss improved from 0.98523 to 0.98357, saving model to BRUN0-Net-delta.h5\n",
      "100/100 [==============================] - 130s 1s/step - loss: 1.0011 - accuracy: 0.5450 - val_loss: 0.9836 - val_accuracy: 0.5632\n",
      "Epoch 4/30\n",
      "100/100 [==============================] - ETA: 0s - loss: 0.9751 - accuracy: 0.5767\n",
      "Epoch 4: val_loss improved from 0.98357 to 0.98177, saving model to BRUN0-Net-delta.h5\n",
      "100/100 [==============================] - 130s 1s/step - loss: 0.9751 - accuracy: 0.5767 - val_loss: 0.9818 - val_accuracy: 0.5632\n",
      "Epoch 5/30\n",
      "100/100 [==============================] - ETA: 0s - loss: 0.9657 - accuracy: 0.5850\n",
      "Epoch 5: val_loss did not improve from 0.98177\n",
      "100/100 [==============================] - 130s 1s/step - loss: 0.9657 - accuracy: 0.5850 - val_loss: 0.9820 - val_accuracy: 0.5632\n",
      "Epoch 6/30\n",
      "100/100 [==============================] - ETA: 0s - loss: 0.9674 - accuracy: 0.5833\n",
      "Epoch 6: val_loss did not improve from 0.98177\n",
      "100/100 [==============================] - 130s 1s/step - loss: 0.9674 - accuracy: 0.5833 - val_loss: 0.9830 - val_accuracy: 0.5632\n",
      "Epoch 7/30\n",
      "100/100 [==============================] - ETA: 0s - loss: 0.9781 - accuracy: 0.5708\n",
      "Epoch 7: val_loss improved from 0.98177 to 0.98165, saving model to BRUN0-Net-delta.h5\n",
      "100/100 [==============================] - 131s 1s/step - loss: 0.9781 - accuracy: 0.5708 - val_loss: 0.9816 - val_accuracy: 0.5632\n",
      "Epoch 8/30\n",
      "100/100 [==============================] - ETA: 0s - loss: 0.9600 - accuracy: 0.5925\n",
      "Epoch 8: val_loss did not improve from 0.98165\n",
      "100/100 [==============================] - 130s 1s/step - loss: 0.9600 - accuracy: 0.5925 - val_loss: 0.9834 - val_accuracy: 0.5632\n",
      "Epoch 9/30\n",
      "100/100 [==============================] - ETA: 0s - loss: 0.9853 - accuracy: 0.5683\n",
      "Epoch 9: val_loss did not improve from 0.98165\n",
      "100/100 [==============================] - 129s 1s/step - loss: 0.9853 - accuracy: 0.5683 - val_loss: 0.9819 - val_accuracy: 0.5632\n",
      "Epoch 10/30\n",
      "100/100 [==============================] - ETA: 0s - loss: 0.9782 - accuracy: 0.5700\n",
      "Epoch 10: val_loss did not improve from 0.98165\n",
      "100/100 [==============================] - 128s 1s/step - loss: 0.9782 - accuracy: 0.5700 - val_loss: 0.9819 - val_accuracy: 0.5632\n",
      "Epoch 11/30\n",
      "100/100 [==============================] - ETA: 0s - loss: 0.9728 - accuracy: 0.5750\n",
      "Epoch 11: val_loss did not improve from 0.98165\n",
      "100/100 [==============================] - 128s 1s/step - loss: 0.9728 - accuracy: 0.5750 - val_loss: 0.9817 - val_accuracy: 0.5632\n",
      "Epoch 12/30\n",
      "100/100 [==============================] - ETA: 0s - loss: 0.9637 - accuracy: 0.5858\n",
      "Epoch 12: val_loss improved from 0.98165 to 0.98164, saving model to BRUN0-Net-delta.h5\n",
      "100/100 [==============================] - 129s 1s/step - loss: 0.9637 - accuracy: 0.5858 - val_loss: 0.9816 - val_accuracy: 0.5632\n",
      "Epoch 13/30\n",
      "100/100 [==============================] - ETA: 0s - loss: 0.9517 - accuracy: 0.5917\n",
      "Epoch 13: val_loss did not improve from 0.98164\n",
      "100/100 [==============================] - 128s 1s/step - loss: 0.9517 - accuracy: 0.5917 - val_loss: 0.9850 - val_accuracy: 0.5632\n",
      "Epoch 14/30\n",
      "100/100 [==============================] - ETA: 0s - loss: 0.9758 - accuracy: 0.5717\n",
      "Epoch 14: val_loss did not improve from 0.98164\n",
      "100/100 [==============================] - 129s 1s/step - loss: 0.9758 - accuracy: 0.5717 - val_loss: 0.9821 - val_accuracy: 0.5632\n",
      "Epoch 15/30\n",
      "100/100 [==============================] - ETA: 0s - loss: 1.0170 - accuracy: 0.5283\n",
      "Epoch 15: val_loss did not improve from 0.98164\n",
      "100/100 [==============================] - 130s 1s/step - loss: 1.0170 - accuracy: 0.5283 - val_loss: 0.9848 - val_accuracy: 0.5632\n",
      "Epoch 16/30\n",
      "100/100 [==============================] - ETA: 0s - loss: 0.9722 - accuracy: 0.5792\n",
      "Epoch 16: val_loss improved from 0.98164 to 0.98162, saving model to BRUN0-Net-delta.h5\n",
      "100/100 [==============================] - 131s 1s/step - loss: 0.9722 - accuracy: 0.5792 - val_loss: 0.9816 - val_accuracy: 0.5632\n",
      "Epoch 17/30\n",
      "100/100 [==============================] - ETA: 0s - loss: 0.9881 - accuracy: 0.5567\n",
      "Epoch 17: val_loss did not improve from 0.98162\n",
      "100/100 [==============================] - 128s 1s/step - loss: 0.9881 - accuracy: 0.5567 - val_loss: 0.9819 - val_accuracy: 0.5632\n",
      "Epoch 18/30\n",
      "100/100 [==============================] - ETA: 0s - loss: 0.9691 - accuracy: 0.5767\n",
      "Epoch 18: val_loss did not improve from 0.98162\n",
      "100/100 [==============================] - 128s 1s/step - loss: 0.9691 - accuracy: 0.5767 - val_loss: 0.9819 - val_accuracy: 0.5632\n",
      "Epoch 19/30\n",
      "100/100 [==============================] - ETA: 0s - loss: 0.9621 - accuracy: 0.5833\n",
      "Epoch 19: val_loss did not improve from 0.98162\n",
      "100/100 [==============================] - 127s 1s/step - loss: 0.9621 - accuracy: 0.5833 - val_loss: 0.9823 - val_accuracy: 0.5632\n",
      "Epoch 20/30\n",
      "100/100 [==============================] - ETA: 0s - loss: 0.9809 - accuracy: 0.5742\n",
      "Epoch 20: val_loss did not improve from 0.98162\n",
      "100/100 [==============================] - 127s 1s/step - loss: 0.9809 - accuracy: 0.5742 - val_loss: 0.9818 - val_accuracy: 0.5632\n",
      "Epoch 21/30\n",
      "100/100 [==============================] - ETA: 0s - loss: 0.9723 - accuracy: 0.5758\n",
      "Epoch 21: val_loss did not improve from 0.98162\n",
      "100/100 [==============================] - 127s 1s/step - loss: 0.9723 - accuracy: 0.5758 - val_loss: 0.9819 - val_accuracy: 0.5632\n",
      "Epoch 22/30\n",
      "100/100 [==============================] - ETA: 0s - loss: 0.9625 - accuracy: 0.5825\n",
      "Epoch 22: val_loss did not improve from 0.98162\n",
      "100/100 [==============================] - 128s 1s/step - loss: 0.9625 - accuracy: 0.5825 - val_loss: 0.9824 - val_accuracy: 0.5632\n",
      "Epoch 23/30\n",
      "100/100 [==============================] - ETA: 0s - loss: 0.9964 - accuracy: 0.5392\n",
      "Epoch 23: val_loss did not improve from 0.98162\n",
      "100/100 [==============================] - 128s 1s/step - loss: 0.9964 - accuracy: 0.5392 - val_loss: 0.9833 - val_accuracy: 0.5632\n",
      "Epoch 24/30\n",
      "100/100 [==============================] - ETA: 0s - loss: 0.9802 - accuracy: 0.5667\n",
      "Epoch 24: val_loss did not improve from 0.98162\n",
      "100/100 [==============================] - 128s 1s/step - loss: 0.9802 - accuracy: 0.5667 - val_loss: 0.9820 - val_accuracy: 0.5632\n",
      "Epoch 25/30\n",
      "100/100 [==============================] - ETA: 0s - loss: 0.9811 - accuracy: 0.5675\n",
      "Epoch 25: val_loss did not improve from 0.98162\n",
      "100/100 [==============================] - 128s 1s/step - loss: 0.9811 - accuracy: 0.5675 - val_loss: 0.9818 - val_accuracy: 0.5632\n",
      "Epoch 26/30\n",
      "100/100 [==============================] - ETA: 0s - loss: 0.9866 - accuracy: 0.5575\n",
      "Epoch 26: val_loss did not improve from 0.98162\n",
      "100/100 [==============================] - 128s 1s/step - loss: 0.9866 - accuracy: 0.5575 - val_loss: 0.9824 - val_accuracy: 0.5632\n",
      "Epoch 26: early stopping\n"
     ]
    },
    {
     "data": {
      "image/png": "[encoded data removed]",
      "text/plain": [
       "<Figure size 432x288 with 1 Axes>"
      ]
     },
     "metadata": {
      "needs_background": "light"
     },
     "output_type": "display_data"
    },
    {
     "data": {
      "image/png": "[encoded data removed]",
      "text/plain": [
       "<Figure size 432x288 with 1 Axes>"
      ]
     },
     "metadata": {
      "needs_background": "light"
     },
     "output_type": "display_data"
    }
   ],
   "source": [
    "train_and_plot(delta_model_builder, 'delta')"
   ]
  },
  {
   "cell_type": "markdown",
   "id": "c60f30b7",
   "metadata": {},
   "source": [
    "#### Model Epsilon $\\epsilon$"
   ]
  },
  {
   "cell_type": "code",
   "execution_count": 16,
   "id": "0c8b47cf",
   "metadata": {},
   "outputs": [],
   "source": [
    "def epsilon_model_builder(max_len=MAX_LEN):  \n",
    "    # --- INPUTS ---  \n",
    "    input_ids       = Input(shape=(max_len,), dtype=tf.int32, name=\"input_ids\")\n",
    "    token_type_ids  = Input(shape=(max_len,), dtype=tf.int32, name=\"token_type_ids\")\n",
    "    attention_mask  = Input(shape=(max_len,), dtype=tf.int32, name=\"attention_mask\")\n",
    "\n",
    "    # --- BERT WORLD EMBEDDING ---\n",
    "    bert_model = TFBertModel.from_pretrained(\"bert-base-cased\")\n",
    "    sequence_output = bert_model(input_ids, token_type_ids=token_type_ids, attention_mask=attention_mask)[0]\n",
    "\n",
    "    # --- MIDDEL LAYER ---\n",
    "    conv_1      = Conv1D(128, 5, activation='relu', name=\"conv_1\")(sequence_output)\n",
    "    conv_2      = Conv1D(64, 5, activation='relu', name=\"conv_2\")(conv_1)\n",
    "    max_pool  = MaxPooling1D(pool_size=3, name=\"maxpooling\")(conv_2)\n",
    "    \n",
    "    lstm_1 = LSTM(4, return_sequences=True, name=\"lstm_1\")(max_pool)\n",
    "    lstm_2 = LSTM(2, name=\"lstm_2\")(lstm_1)\n",
    "\n",
    "    # --- OUTPUT ---\n",
    "    flatten = Flatten()(lstm_2)\n",
    "    out = Dense(3, activation='softmax', name=\"output\")(flatten)\n",
    "    \n",
    "    model = Model(inputs=[input_ids, token_type_ids, attention_mask], outputs=out)\n",
    "    model.compile(optimizer=\"adam\", loss =\"sparse_categorical_crossentropy\", metrics = [\"accuracy\"] )\n",
    "    \n",
    "    return model"
   ]
  },
  {
   "cell_type": "code",
   "execution_count": 17,
   "id": "d7dbb733",
   "metadata": {},
   "outputs": [
    {
     "name": "stderr",
     "output_type": "stream",
     "text": [
      "All model checkpoint layers were used when initializing TFBertForMaskedLM.\n",
      "\n",
      "All the layers of TFBertForMaskedLM were initialized from the model checkpoint at bert-base-cased.\n",
      "If your task is similar to the task the model of the checkpoint was trained on, you can already use TFBertForMaskedLM for predictions without further training.\n"
     ]
    },
    {
     "name": "stdout",
     "output_type": "stream",
     "text": [
      "Model: \"model\"\n",
      "__________________________________________________________________________________________________\n",
      " Layer (type)                   Output Shape         Param #     Connected to                     \n",
      "==================================================================================================\n",
      " input_ids (InputLayer)         [(None, 256)]        0           []                               \n",
      "                                                                                                  \n",
      " attention_mask (InputLayer)    [(None, 256)]        0           []                               \n",
      "                                                                                                  \n",
      " token_type_ids (InputLayer)    [(None, 256)]        0           []                               \n",
      "                                                                                                  \n",
      " tf_bert_for_masked_lm (TFBertF  TFMaskedLMOutput(lo  108340804  ['input_ids[0][0]',              \n",
      " orMaskedLM)                    ss=None, logits=(No               'attention_mask[0][0]',         \n",
      "                                ne, 256, 28996),                  'token_type_ids[0][0]']         \n",
      "                                 hidden_states=None                                               \n",
      "                                , attentions=None)                                                \n",
      "                                                                                                  \n",
      " conv_1 (Conv1D)                (None, 252, 128)     18557568    ['tf_bert_for_masked_lm[0][0]']  \n",
      "                                                                                                  \n",
      " conv_2 (Conv1D)                (None, 248, 64)      41024       ['conv_1[0][0]']                 \n",
      "                                                                                                  \n",
      " maxpooling (MaxPooling1D)      (None, 82, 64)       0           ['conv_2[0][0]']                 \n",
      "                                                                                                  \n",
      " lstm_1 (LSTM)                  (None, 82, 4)        1104        ['maxpooling[0][0]']             \n",
      "                                                                                                  \n",
      " lstm_2 (LSTM)                  (None, 2)            56          ['lstm_1[0][0]']                 \n",
      "                                                                                                  \n",
      " flatten (Flatten)              (None, 2)            0           ['lstm_2[0][0]']                 \n",
      "                                                                                                  \n",
      " output (Dense)                 (None, 3)            9           ['flatten[0][0]']                \n",
      "                                                                                                  \n",
      "==================================================================================================\n",
      "Total params: 126,940,565\n",
      "Trainable params: 126,940,565\n",
      "Non-trainable params: 0\n",
      "__________________________________________________________________________________________________\n",
      "huggingface/tokenizers: The current process just got forked, after parallelism has already been used. Disabling parallelism to avoid deadlocks...\n",
      "To disable this warning, you can either:\n",
      "\t- Avoid using `tokenizers` before the fork if possible\n",
      "\t- Explicitly set the environment variable TOKENIZERS_PARALLELISM=(true | false)\n",
      "huggingface/tokenizers: The current process just got forked, after parallelism has already been used. Disabling parallelism to avoid deadlocks...\n",
      "To disable this warning, you can either:\n",
      "\t- Avoid using `tokenizers` before the fork if possible\n",
      "\t- Explicitly set the environment variable TOKENIZERS_PARALLELISM=(true | false)\n",
      "Epoch 1/30\n",
      "100/100 [==============================] - ETA: 0s - loss: 1.0545 - accuracy: 0.5833\n",
      "Epoch 1: val_loss improved from inf to 1.01061, saving model to BRUN0-Net-epsilon.h5\n",
      "100/100 [==============================] - 154s 1s/step - loss: 1.0545 - accuracy: 0.5833 - val_loss: 1.0106 - val_accuracy: 0.5632\n",
      "Epoch 2/30\n",
      "100/100 [==============================] - ETA: 0s - loss: 0.9924 - accuracy: 0.5625\n",
      "Epoch 2: val_loss improved from 1.01061 to 0.98522, saving model to BRUN0-Net-epsilon.h5\n",
      "100/100 [==============================] - 144s 1s/step - loss: 0.9924 - accuracy: 0.5625 - val_loss: 0.9852 - val_accuracy: 0.5632\n",
      "Epoch 3/30\n",
      "100/100 [==============================] - ETA: 0s - loss: 0.9601 - accuracy: 0.5900\n",
      "Epoch 3: val_loss did not improve from 0.98522\n",
      "100/100 [==============================] - 142s 1s/step - loss: 0.9601 - accuracy: 0.5900 - val_loss: 0.9869 - val_accuracy: 0.5632\n",
      "Epoch 4/30\n",
      "100/100 [==============================] - ETA: 0s - loss: 0.9985 - accuracy: 0.5508\n",
      "Epoch 4: val_loss improved from 0.98522 to 0.98338, saving model to BRUN0-Net-epsilon.h5\n",
      "100/100 [==============================] - 143s 1s/step - loss: 0.9985 - accuracy: 0.5508 - val_loss: 0.9834 - val_accuracy: 0.5632\n",
      "Epoch 5/30\n",
      "100/100 [==============================] - ETA: 0s - loss: 0.9548 - accuracy: 0.5958\n",
      "Epoch 5: val_loss improved from 0.98338 to 0.98289, saving model to BRUN0-Net-epsilon.h5\n",
      "100/100 [==============================] - 141s 1s/step - loss: 0.9548 - accuracy: 0.5958 - val_loss: 0.9829 - val_accuracy: 0.5632\n",
      "Epoch 6/30\n",
      "100/100 [==============================] - ETA: 0s - loss: 0.9729 - accuracy: 0.5733\n",
      "Epoch 6: val_loss improved from 0.98289 to 0.98219, saving model to BRUN0-Net-epsilon.h5\n",
      "100/100 [==============================] - 141s 1s/step - loss: 0.9729 - accuracy: 0.5733 - val_loss: 0.9822 - val_accuracy: 0.5632\n",
      "Epoch 7/30\n",
      "100/100 [==============================] - ETA: 0s - loss: 0.9652 - accuracy: 0.5783\n",
      "Epoch 7: val_loss improved from 0.98219 to 0.98187, saving model to BRUN0-Net-epsilon.h5\n",
      "100/100 [==============================] - 140s 1s/step - loss: 0.9652 - accuracy: 0.5783 - val_loss: 0.9819 - val_accuracy: 0.5632\n",
      "Epoch 8/30\n",
      "100/100 [==============================] - ETA: 0s - loss: 0.9786 - accuracy: 0.5675\n",
      "Epoch 8: val_loss did not improve from 0.98187\n",
      "100/100 [==============================] - 139s 1s/step - loss: 0.9786 - accuracy: 0.5675 - val_loss: 0.9819 - val_accuracy: 0.5632\n",
      "Epoch 9/30\n",
      "100/100 [==============================] - ETA: 0s - loss: 0.9695 - accuracy: 0.5825\n",
      "Epoch 9: val_loss did not improve from 0.98187\n",
      "100/100 [==============================] - 140s 1s/step - loss: 0.9695 - accuracy: 0.5825 - val_loss: 0.9827 - val_accuracy: 0.5632\n",
      "Epoch 10/30\n",
      "100/100 [==============================] - ETA: 0s - loss: 0.9556 - accuracy: 0.5883\n",
      "Epoch 10: val_loss did not improve from 0.98187\n",
      "100/100 [==============================] - 140s 1s/step - loss: 0.9556 - accuracy: 0.5883 - val_loss: 0.9832 - val_accuracy: 0.5632\n",
      "Epoch 11/30\n",
      "100/100 [==============================] - ETA: 0s - loss: 0.9598 - accuracy: 0.5858\n",
      "Epoch 11: val_loss did not improve from 0.98187\n",
      "100/100 [==============================] - 140s 1s/step - loss: 0.9598 - accuracy: 0.5858 - val_loss: 0.9842 - val_accuracy: 0.5632\n",
      "Epoch 12/30\n",
      "100/100 [==============================] - ETA: 0s - loss: 0.9665 - accuracy: 0.5792\n",
      "Epoch 12: val_loss improved from 0.98187 to 0.98162, saving model to BRUN0-Net-epsilon.h5\n",
      "100/100 [==============================] - 141s 1s/step - loss: 0.9665 - accuracy: 0.5792 - val_loss: 0.9816 - val_accuracy: 0.5632\n",
      "Epoch 13/30\n",
      "100/100 [==============================] - ETA: 0s - loss: 0.9742 - accuracy: 0.5717\n",
      "Epoch 13: val_loss did not improve from 0.98162\n",
      "100/100 [==============================] - 140s 1s/step - loss: 0.9742 - accuracy: 0.5717 - val_loss: 0.9817 - val_accuracy: 0.5632\n",
      "Epoch 14/30\n",
      "100/100 [==============================] - ETA: 0s - loss: 0.9947 - accuracy: 0.5500\n",
      "Epoch 14: val_loss did not improve from 0.98162\n",
      "100/100 [==============================] - 141s 1s/step - loss: 0.9947 - accuracy: 0.5500 - val_loss: 0.9822 - val_accuracy: 0.5632\n",
      "Epoch 15/30\n",
      "100/100 [==============================] - ETA: 0s - loss: 0.9572 - accuracy: 0.5825\n",
      "Epoch 15: val_loss did not improve from 0.98162\n",
      "100/100 [==============================] - 142s 1s/step - loss: 0.9572 - accuracy: 0.5825 - val_loss: 0.9819 - val_accuracy: 0.5632\n",
      "Epoch 16/30\n",
      "100/100 [==============================] - ETA: 0s - loss: 0.9896 - accuracy: 0.5475\n",
      "Epoch 16: val_loss did not improve from 0.98162\n",
      "100/100 [==============================] - 142s 1s/step - loss: 0.9896 - accuracy: 0.5475 - val_loss: 0.9821 - val_accuracy: 0.5632\n",
      "Epoch 17/30\n",
      "100/100 [==============================] - ETA: 0s - loss: 0.9725 - accuracy: 0.5742\n",
      "Epoch 17: val_loss did not improve from 0.98162\n",
      "100/100 [==============================] - 140s 1s/step - loss: 0.9725 - accuracy: 0.5742 - val_loss: 0.9818 - val_accuracy: 0.5632\n",
      "Epoch 18/30\n",
      "100/100 [==============================] - ETA: 0s - loss: 0.9806 - accuracy: 0.5658\n",
      "Epoch 18: val_loss did not improve from 0.98162\n",
      "100/100 [==============================] - 140s 1s/step - loss: 0.9806 - accuracy: 0.5658 - val_loss: 0.9818 - val_accuracy: 0.5632\n",
      "Epoch 19/30\n",
      "100/100 [==============================] - ETA: 0s - loss: 0.9817 - accuracy: 0.5625\n",
      "Epoch 19: val_loss did not improve from 0.98162\n",
      "100/100 [==============================] - 138s 1s/step - loss: 0.9817 - accuracy: 0.5625 - val_loss: 0.9819 - val_accuracy: 0.5632\n",
      "Epoch 20/30\n",
      "100/100 [==============================] - ETA: 0s - loss: 0.9847 - accuracy: 0.5600\n",
      "Epoch 20: val_loss did not improve from 0.98162\n",
      "100/100 [==============================] - 139s 1s/step - loss: 0.9847 - accuracy: 0.5600 - val_loss: 0.9817 - val_accuracy: 0.5632\n",
      "Epoch 21/30\n",
      "100/100 [==============================] - ETA: 0s - loss: 0.9748 - accuracy: 0.5667\n",
      "Epoch 21: val_loss did not improve from 0.98162\n",
      "100/100 [==============================] - 140s 1s/step - loss: 0.9748 - accuracy: 0.5667 - val_loss: 0.9821 - val_accuracy: 0.5632\n",
      "Epoch 22/30\n",
      "100/100 [==============================] - ETA: 0s - loss: 0.9790 - accuracy: 0.5658\n",
      "Epoch 22: val_loss did not improve from 0.98162\n",
      "100/100 [==============================] - 140s 1s/step - loss: 0.9790 - accuracy: 0.5658 - val_loss: 0.9818 - val_accuracy: 0.5632\n",
      "Epoch 22: early stopping\n"
     ]
    },
    {
     "data": {
      "image/png": "[encoded data removed]",
      "text/plain": [
       "<Figure size 432x288 with 1 Axes>"
      ]
     },
     "metadata": {
      "needs_background": "light"
     },
     "output_type": "display_data"
    },
    {
     "data": {
      "image/png": "[encoded data removed]",
      "text/plain": [
       "<Figure size 432x288 with 1 Axes>"
      ]
     },
     "metadata": {
      "needs_background": "light"
     },
     "output_type": "display_data"
    }
   ],
   "source": [
    "train_and_plot(epsilon_model_builder, 'epsilon')"
   ]
  },
  {
   "cell_type": "markdown",
   "id": "2d5bc04a",
   "metadata": {},
   "source": [
    "### Secondo Allenamento"
   ]
  },
  {
   "cell_type": "code",
   "execution_count": 22,
   "id": "72717390",
   "metadata": {},
   "outputs": [],
   "source": [
    "from keras.optimizers import Adam"
   ]
  },
  {
   "cell_type": "markdown",
   "id": "e371cfad",
   "metadata": {},
   "source": [
    "#### Model Alpha Plus $\\alpha^+$"
   ]
  },
  {
   "cell_type": "code",
   "execution_count": null,
   "id": "7b05d19d",
   "metadata": {},
   "outputs": [],
   "source": [
    "def alphaplus_model_builder(max_len=MAX_LEN):  \n",
    "    # --- INPUTS ---\n",
    "    input_ids       = Input(shape=(max_len,), dtype=tf.int32, name=\"input_ids\")\n",
    "    token_type_ids  = Input(shape=(max_len,), dtype=tf.int32, name=\"token_type_ids\")\n",
    "    attention_mask  = Input(shape=(max_len,), dtype=tf.int32, name=\"attention_mask\")\n",
    "\n",
    "    # --- BERT WORLD EMBEDDING ---\n",
    "    bert_model = TFBertModel.from_pretrained(\"bert-base-cased\")\n",
    "    sequence_output = bert_model(input_ids, token_type_ids=token_type_ids, attention_mask=attention_mask)[0]\n",
    "    \n",
    "    # --- MIDDEL LAYER ---\n",
    "    conv_1      = Conv1D(256, 5, activation='relu', name=\"conv_1\")(sequence_output)\n",
    "    conv_2      = Conv1D(64, 5, activation='relu', name=\"conv_2\")(conv_1)\n",
    "    max_pool_1  = MaxPooling1D(pool_size=3, name=\"maxpooling\")(conv_2)\n",
    "\n",
    "    flatten = Flatten()(max_pool_1)\n",
    "    \n",
    "    # --- CLASSIFICATORE ---\n",
    "    net  = Dropout(.1, name=\"dropout_1\")(flatten)\n",
    "    net  = Dense(124, activation='relu', name=\"dense_1\")(net)\n",
    "    net  = Dropout(.1, name=\"dropout_2\")(net)\n",
    "    net  = Dense(32, activation='relu', name=\"dense_2\")(net)\n",
    "\n",
    "    # --- OUTPUT ---\n",
    "    out = Dense(3, activation='softmax', name=\"output\")(net)\n",
    "    \n",
    "    model = Model(inputs=[input_ids, token_type_ids, attention_mask], outputs=out)\n",
    "    model.compile(optimizer=Adam(learning_rate=1e-5), loss=\"sparse_categorical_crossentropy\", metrics=[\"accuracy\"] )\n",
    "    \n",
    "    return model\n"
   ]
  },
  {
   "cell_type": "code",
   "execution_count": null,
   "id": "c46244ec",
   "metadata": {},
   "outputs": [],
   "source": [
    "train_and_plot(alphaplus_model_builder, 'alpha_plus')"
   ]
  },
  {
   "cell_type": "markdown",
   "id": "4033c6c8",
   "metadata": {},
   "source": [
    "#### Model Beta Plus $\\beta^+$"
   ]
  },
  {
   "cell_type": "code",
   "execution_count": 14,
   "id": "2a9de7ab",
   "metadata": {},
   "outputs": [],
   "source": [
    "def betaplus_model_builder(max_len=MAX_LEN):  \n",
    "    # --- INPUTS ---\n",
    "    input_ids       = Input(shape=(max_len,), dtype=tf.int32, name=\"input_ids\")\n",
    "    token_type_ids  = Input(shape=(max_len,), dtype=tf.int32, name=\"token_type_ids\")\n",
    "    attention_mask  = Input(shape=(max_len,), dtype=tf.int32, name=\"attention_mask\")\n",
    "\n",
    "    # --- BERT WORLD EMBEDDING ---\n",
    "    bert_model = TFBertModel.from_pretrained(\"bert-base-cased\")\n",
    "    sequence_output = bert_model(input_ids, token_type_ids=token_type_ids, attention_mask=attention_mask)[0]\n",
    "    \n",
    "    # --- MIDDEL LAYER ---\n",
    "    conv_1      = Conv1D(512, 5, activation='relu', name=\"conv_1\")(sequence_output)\n",
    "    conv_2      = Conv1D(256, 5, activation='relu', name=\"conv_2\")(conv_1)\n",
    "    conv_3      = Conv1D(128, 5, activation='relu', name=\"conv_3\")(conv_2)\n",
    "    conv_4      = Conv1D(64, 5, activation='relu', name=\"conv_4\")(conv_3)\n",
    "    max_pool_1  = MaxPooling1D(pool_size=3, name=\"maxpooling\")(conv_4)\n",
    "\n",
    "    flatten = Flatten()(max_pool_1)\n",
    "    \n",
    "    # --- CLASSIFIER ---\n",
    "    net  = Dropout(.2, name=\"dropout_1\")(flatten)\n",
    "    net  = Dense(126, activation='relu', name=\"dense_1\")(net)\n",
    "    net  = Dropout(.2, name=\"dropout_2\")(net)\n",
    "    net  = Dense(64, activation='relu', name=\"dense_2\")(net)\n",
    "    net  = Dropout(.1, name=\"dropout_3\")(net)\n",
    "    net  = Dense(32, activation='relu', name=\"dense_3\")(net)\n",
    "    net  = Dropout(.1, name=\"dropout_4\")(net)\n",
    "    net  = Dense(16, activation='relu', name=\"dense_4\")(net)\n",
    "    \n",
    "    # --- OUTPUT ---\n",
    "    out = Dense(3, activation='softmax', name=\"output\")(net)\n",
    "    \n",
    "    model = Model(inputs=[input_ids, token_type_ids, attention_mask], outputs=out)\n",
    "    model.compile(optimizer=Adam(learning_rate=1e-5), loss=\"sparse_categorical_crossentropy\", metrics=[\"accuracy\"] )\n",
    "    \n",
    "    return model"
   ]
  },
  {
   "cell_type": "code",
   "execution_count": 15,
   "id": "24f194c4",
   "metadata": {},
   "outputs": [
    {
     "name": "stderr",
     "output_type": "stream",
     "text": [
      "2022-06-23 09:09:23.592509: I tensorflow/stream_executor/cuda/cuda_blas.cc:1786] TensorFloat-32 will be used for the matrix multiplication. This will only be logged once.\n",
      "Some layers from the model checkpoint at bert-base-cased were not used when initializing TFBertModel: ['nsp___cls', 'mlm___cls']\n",
      "- This IS expected if you are initializing TFBertModel from the checkpoint of a model trained on another task or with another architecture (e.g. initializing a BertForSequenceClassification model from a BertForPreTraining model).\n",
      "- This IS NOT expected if you are initializing TFBertModel from the checkpoint of a model that you expect to be exactly identical (initializing a BertForSequenceClassification model from a BertForSequenceClassification model).\n",
      "All the layers of TFBertModel were initialized from the model checkpoint at bert-base-cased.\n",
      "If your task is similar to the task the model of the checkpoint was trained on, you can already use TFBertModel for predictions without further training.\n"
     ]
    },
    {
     "name": "stdout",
     "output_type": "stream",
     "text": [
      "Model: \"model\"\n",
      "__________________________________________________________________________________________________\n",
      " Layer (type)                   Output Shape         Param #     Connected to                     \n",
      "==================================================================================================\n",
      " input_ids (InputLayer)         [(None, 256)]        0           []                               \n",
      "                                                                                                  \n",
      " attention_mask (InputLayer)    [(None, 256)]        0           []                               \n",
      "                                                                                                  \n",
      " token_type_ids (InputLayer)    [(None, 256)]        0           []                               \n",
      "                                                                                                  \n",
      " tf_bert_model (TFBertModel)    TFBaseModelOutputWi  108310272   ['input_ids[0][0]',              \n",
      "                                thPoolingAndCrossAt               'attention_mask[0][0]',         \n",
      "                                tentions(last_hidde               'token_type_ids[0][0]']         \n",
      "                                n_state=(None, 256,                                               \n",
      "                                 768),                                                            \n",
      "                                 pooler_output=(Non                                               \n",
      "                                e, 768),                                                          \n",
      "                                 past_key_values=No                                               \n",
      "                                ne, hidden_states=N                                               \n",
      "                                one, attentions=Non                                               \n",
      "                                e, cross_attentions                                               \n",
      "                                =None)                                                            \n",
      "                                                                                                  \n",
      " conv_1 (Conv1D)                (None, 252, 512)     1966592     ['tf_bert_model[0][0]']          \n",
      "                                                                                                  \n",
      " conv_2 (Conv1D)                (None, 248, 256)     655616      ['conv_1[0][0]']                 \n",
      "                                                                                                  \n",
      " conv_3 (Conv1D)                (None, 244, 128)     163968      ['conv_2[0][0]']                 \n",
      "                                                                                                  \n",
      " conv_4 (Conv1D)                (None, 240, 64)      41024       ['conv_3[0][0]']                 \n",
      "                                                                                                  \n",
      " maxpooling (MaxPooling1D)      (None, 80, 64)       0           ['conv_4[0][0]']                 \n",
      "                                                                                                  \n",
      " flatten (Flatten)              (None, 5120)         0           ['maxpooling[0][0]']             \n",
      "                                                                                                  \n",
      " dropout_1 (Dropout)            (None, 5120)         0           ['flatten[0][0]']                \n",
      "                                                                                                  \n",
      " dense_1 (Dense)                (None, 126)          645246      ['dropout_1[0][0]']              \n",
      "                                                                                                  \n",
      " dropout_2 (Dropout)            (None, 126)          0           ['dense_1[0][0]']                \n",
      "                                                                                                  \n",
      " dense_2 (Dense)                (None, 64)           8128        ['dropout_2[0][0]']              \n",
      "                                                                                                  \n",
      " dropout_3 (Dropout)            (None, 64)           0           ['dense_2[0][0]']                \n",
      "                                                                                                  \n",
      " dense_3 (Dense)                (None, 32)           2080        ['dropout_3[0][0]']              \n",
      "                                                                                                  \n",
      " dropout_4 (Dropout)            (None, 32)           0           ['dense_3[0][0]']                \n",
      "                                                                                                  \n",
      " dense_4 (Dense)                (None, 16)           528         ['dropout_4[0][0]']              \n",
      "                                                                                                  \n",
      " output (Dense)                 (None, 3)            51          ['dense_4[0][0]']                \n",
      "                                                                                                  \n",
      "==================================================================================================\n",
      "Total params: 111,793,505\n",
      "Trainable params: 111,793,505\n",
      "Non-trainable params: 0\n",
      "__________________________________________________________________________________________________\n",
      "huggingface/tokenizers: The current process just got forked, after parallelism has already been used. Disabling parallelism to avoid deadlocks...\n",
      "To disable this warning, you can either:\n",
      "\t- Avoid using `tokenizers` before the fork if possible\n",
      "\t- Explicitly set the environment variable TOKENIZERS_PARALLELISM=(true | false)\n",
      "huggingface/tokenizers: The current process just got forked, after parallelism has already been used. Disabling parallelism to avoid deadlocks...\n",
      "To disable this warning, you can either:\n",
      "\t- Avoid using `tokenizers` before the fork if possible\n",
      "\t- Explicitly set the environment variable TOKENIZERS_PARALLELISM=(true | false)\n",
      "Epoch 1/30\n",
      "WARNING:tensorflow:Gradients do not exist for variables ['tf_bert_model/bert/pooler/dense/kernel:0', 'tf_bert_model/bert/pooler/dense/bias:0'] when minimizing the loss. If you're using `model.compile()`, did you forget to provide a `loss`argument?\n",
      "WARNING:tensorflow:Gradients do not exist for variables ['tf_bert_model/bert/pooler/dense/kernel:0', 'tf_bert_model/bert/pooler/dense/bias:0'] when minimizing the loss. If you're using `model.compile()`, did you forget to provide a `loss`argument?\n"
     ]
    },
    {
     "name": "stderr",
     "output_type": "stream",
     "text": [
      "2022-06-23 09:09:34.203506: I tensorflow/stream_executor/cuda/cuda_dnn.cc:384] Loaded cuDNN version 8401\n"
     ]
    },
    {
     "name": "stdout",
     "output_type": "stream",
     "text": [
      "100/100 [==============================] - ETA: 0s - loss: 1.0529 - accuracy: 0.5417\n",
      "Epoch 1: val_loss improved from inf to 0.96612, saving model to BRUN0-Net-beta_plus.h5\n",
      "100/100 [==============================] - 126s 1s/step - loss: 1.0529 - accuracy: 0.5417 - val_loss: 0.9661 - val_accuracy: 0.5860\n",
      "Epoch 2/30\n",
      "100/100 [==============================] - ETA: 0s - loss: 1.0196 - accuracy: 0.5417\n",
      "Epoch 2: val_loss did not improve from 0.96612\n",
      "100/100 [==============================] - 115s 1s/step - loss: 1.0196 - accuracy: 0.5417 - val_loss: 0.9771 - val_accuracy: 0.5860\n",
      "Epoch 3/30\n",
      "100/100 [==============================] - ETA: 0s - loss: 0.9904 - accuracy: 0.5817\n",
      "Epoch 3: val_loss did not improve from 0.96612\n",
      "100/100 [==============================] - 115s 1s/step - loss: 0.9904 - accuracy: 0.5817 - val_loss: 0.9841 - val_accuracy: 0.5860\n",
      "Epoch 4/30\n",
      "100/100 [==============================] - ETA: 0s - loss: 0.9808 - accuracy: 0.5842\n",
      "Epoch 4: val_loss improved from 0.96612 to 0.96417, saving model to BRUN0-Net-beta_plus.h5\n",
      "100/100 [==============================] - 116s 1s/step - loss: 0.9808 - accuracy: 0.5842 - val_loss: 0.9642 - val_accuracy: 0.5860\n",
      "Epoch 5/30\n",
      "100/100 [==============================] - ETA: 0s - loss: 1.0028 - accuracy: 0.5417\n",
      "Epoch 5: val_loss did not improve from 0.96417\n",
      "100/100 [==============================] - 114s 1s/step - loss: 1.0028 - accuracy: 0.5417 - val_loss: 0.9648 - val_accuracy: 0.5860\n",
      "Epoch 6/30\n",
      "100/100 [==============================] - ETA: 0s - loss: 0.9924 - accuracy: 0.5550\n",
      "Epoch 6: val_loss improved from 0.96417 to 0.96350, saving model to BRUN0-Net-beta_plus.h5\n",
      "100/100 [==============================] - 116s 1s/step - loss: 0.9924 - accuracy: 0.5550 - val_loss: 0.9635 - val_accuracy: 0.5860\n",
      "Epoch 7/30\n",
      "100/100 [==============================] - ETA: 0s - loss: 1.0025 - accuracy: 0.5450\n",
      "Epoch 7: val_loss did not improve from 0.96350\n",
      "100/100 [==============================] - 114s 1s/step - loss: 1.0025 - accuracy: 0.5450 - val_loss: 0.9640 - val_accuracy: 0.5860\n",
      "Epoch 8/30\n",
      "100/100 [==============================] - ETA: 0s - loss: 0.9717 - accuracy: 0.5742\n",
      "Epoch 8: val_loss improved from 0.96350 to 0.96078, saving model to BRUN0-Net-beta_plus.h5\n",
      "100/100 [==============================] - 116s 1s/step - loss: 0.9717 - accuracy: 0.5742 - val_loss: 0.9608 - val_accuracy: 0.5860\n",
      "Epoch 9/30\n",
      "100/100 [==============================] - ETA: 0s - loss: 0.9749 - accuracy: 0.5708\n",
      "Epoch 9: val_loss improved from 0.96078 to 0.95979, saving model to BRUN0-Net-beta_plus.h5\n",
      "100/100 [==============================] - 116s 1s/step - loss: 0.9749 - accuracy: 0.5708 - val_loss: 0.9598 - val_accuracy: 0.5860\n",
      "Epoch 10/30\n",
      "100/100 [==============================] - ETA: 0s - loss: 0.9984 - accuracy: 0.5475\n",
      "Epoch 10: val_loss did not improve from 0.95979\n",
      "100/100 [==============================] - 115s 1s/step - loss: 0.9984 - accuracy: 0.5475 - val_loss: 0.9619 - val_accuracy: 0.5860\n",
      "Epoch 11/30\n",
      "100/100 [==============================] - ETA: 0s - loss: 0.9963 - accuracy: 0.5492\n",
      "Epoch 11: val_loss did not improve from 0.95979\n",
      "100/100 [==============================] - 115s 1s/step - loss: 0.9963 - accuracy: 0.5492 - val_loss: 0.9620 - val_accuracy: 0.5860\n",
      "Epoch 12/30\n",
      "100/100 [==============================] - ETA: 0s - loss: 0.9593 - accuracy: 0.5858\n",
      "Epoch 12: val_loss did not improve from 0.95979\n",
      "100/100 [==============================] - 114s 1s/step - loss: 0.9593 - accuracy: 0.5858 - val_loss: 0.9602 - val_accuracy: 0.5860\n",
      "Epoch 13/30\n",
      "100/100 [==============================] - ETA: 0s - loss: 0.9911 - accuracy: 0.5550\n",
      "Epoch 13: val_loss did not improve from 0.95979\n",
      "100/100 [==============================] - 113s 1s/step - loss: 0.9911 - accuracy: 0.5550 - val_loss: 0.9603 - val_accuracy: 0.5860\n",
      "Epoch 14/30\n",
      "100/100 [==============================] - ETA: 0s - loss: 0.9726 - accuracy: 0.5708\n",
      "Epoch 14: val_loss did not improve from 0.95979\n",
      "100/100 [==============================] - 113s 1s/step - loss: 0.9726 - accuracy: 0.5708 - val_loss: 0.9612 - val_accuracy: 0.5860\n",
      "Epoch 15/30\n",
      "100/100 [==============================] - ETA: 0s - loss: 0.9698 - accuracy: 0.5775\n",
      "Epoch 15: val_loss did not improve from 0.95979\n",
      "100/100 [==============================] - 114s 1s/step - loss: 0.9698 - accuracy: 0.5775 - val_loss: 0.9600 - val_accuracy: 0.5860\n",
      "Epoch 16/30\n",
      "100/100 [==============================] - ETA: 0s - loss: 0.9711 - accuracy: 0.5708\n",
      "Epoch 16: val_loss did not improve from 0.95979\n",
      "100/100 [==============================] - 116s 1s/step - loss: 0.9711 - accuracy: 0.5708 - val_loss: 0.9603 - val_accuracy: 0.5860\n",
      "Epoch 17/30\n",
      "100/100 [==============================] - ETA: 0s - loss: 0.9926 - accuracy: 0.5583\n",
      "Epoch 17: val_loss did not improve from 0.95979\n",
      "100/100 [==============================] - 116s 1s/step - loss: 0.9926 - accuracy: 0.5583 - val_loss: 0.9608 - val_accuracy: 0.5860\n",
      "Epoch 18/30\n",
      "100/100 [==============================] - ETA: 0s - loss: 0.9766 - accuracy: 0.5642\n",
      "Epoch 18: val_loss did not improve from 0.95979\n",
      "100/100 [==============================] - 115s 1s/step - loss: 0.9766 - accuracy: 0.5642 - val_loss: 0.9624 - val_accuracy: 0.5860\n",
      "Epoch 19/30\n",
      "100/100 [==============================] - ETA: 0s - loss: 0.9902 - accuracy: 0.5525\n",
      "Epoch 19: val_loss did not improve from 0.95979\n",
      "100/100 [==============================] - 114s 1s/step - loss: 0.9902 - accuracy: 0.5525 - val_loss: 0.9635 - val_accuracy: 0.5860\n",
      "Epoch 19: early stopping\n"
     ]
    },
    {
     "data": {
      "image/png": "[encoded data removed]",
      "text/plain": [
       "<Figure size 432x288 with 1 Axes>"
      ]
     },
     "metadata": {
      "needs_background": "light"
     },
     "output_type": "display_data"
    },
    {
     "data": {
      "image/png": "[encoded data removed]",
      "text/plain": [
       "<Figure size 432x288 with 1 Axes>"
      ]
     },
     "metadata": {
      "needs_background": "light"
     },
     "output_type": "display_data"
    }
   ],
   "source": [
    "train_and_plot(betaplus_model_builder, 'beta_plus')"
   ]
  },
  {
   "cell_type": "markdown",
   "id": "0c9b97f4",
   "metadata": {},
   "source": [
    "#### Model Gamma Plus $\\gamma^+$"
   ]
  },
  {
   "cell_type": "code",
   "execution_count": null,
   "id": "d48c2246",
   "metadata": {},
   "outputs": [],
   "source": [
    "def gammaplus_model_builder(max_len=MAX_LEN):  \n",
    "    # --- INPUTS ---\n",
    "    input_ids       = Input(shape=(max_len,), dtype=tf.int32, name=\"input_ids\")\n",
    "    token_type_ids  = Input(shape=(max_len,), dtype=tf.int32, name=\"token_type_ids\")\n",
    "    attention_mask  = Input(shape=(max_len,), dtype=tf.int32, name=\"attention_mask\")\n",
    "\n",
    "    # --- BERT WORLD EMBEDDING ---\n",
    "    bert_model = TFBertModel.from_pretrained(\"bert-base-cased\")\n",
    "    sequence_output = bert_model(input_ids, token_type_ids=token_type_ids, attention_mask=attention_mask)[0]\n",
    "\n",
    "    flatten = Flatten()(sequence_output)\n",
    "    \n",
    "    # --- CLASSIFIER ---\n",
    "    # net  = Dense(126, activation='relu', name=\"dense_1\")(flatten)\n",
    "    net  = Dense(64, activation='relu', name=\"dense_2\")(flatten)\n",
    "    net  = Dense(32, activation='relu', name=\"dense_3\")(net)\n",
    "    net  = Dense(16, activation='relu', name=\"dense_4\")(net)\n",
    "\n",
    "    # --- OUTPUT ---\n",
    "    out = Dense(3, activation='softmax', name=\"output\")(net)\n",
    "    \n",
    "    model = Model(inputs=[input_ids, token_type_ids, attention_mask], outputs=out)\n",
    "    model.compile(optimizer=Adam(learning_rate=1e-5), loss=\"sparse_categorical_crossentropy\", metrics=[\"accuracy\"] )\n",
    "    \n",
    "    return model"
   ]
  },
  {
   "cell_type": "code",
   "execution_count": null,
   "id": "eace28f6",
   "metadata": {},
   "outputs": [],
   "source": [
    "train_and_plot(gammaplus_model_builder, 'gamma_plus')"
   ]
  },
  {
   "cell_type": "markdown",
   "id": "ac2be90a",
   "metadata": {},
   "source": [
    "#### Model Delta Plus $\\delta^+$"
   ]
  },
  {
   "cell_type": "code",
   "execution_count": null,
   "id": "b3c2843f",
   "metadata": {},
   "outputs": [],
   "source": [
    "def deltaplus_model_builder(max_len=MAX_LEN):  \n",
    "    # --- INPUTS ---  \n",
    "    input_ids       = Input(shape=(max_len,), dtype=tf.int32, name=\"input_ids\")\n",
    "    token_type_ids  = Input(shape=(max_len,), dtype=tf.int32, name=\"token_type_ids\")\n",
    "    attention_mask  = Input(shape=(max_len,), dtype=tf.int32, name=\"attention_mask\")\n",
    "\n",
    "    # --- BERT WORLD EMBEDDING ---\n",
    "    bert_model = TFBertModel.from_pretrained(\"bert-base-cased\")\n",
    "    sequence_output = bert_model(input_ids, token_type_ids=token_type_ids, attention_mask=attention_mask)[0]\n",
    "\n",
    "    # --- MIDDEL LAYER ---\n",
    "    lstm_1 = LSTM(8, return_sequences=True, name=\"lstm_1\")(sequence_output)\n",
    "    lstm_2 = LSTM(4, name=\"lstm_2\")(lstm_1)\n",
    "\n",
    "    # --- OUTPUT ---\n",
    "    drop_out = Dropout(.1)(lstm_2)\n",
    "    out = Dense(3, activation='softmax', name=\"output\")(drop_out)\n",
    "    \n",
    "    model = Model(inputs=[input_ids, token_type_ids, attention_mask], outputs=out)\n",
    "    model.compile(optimizer=Adam(learning_rate=1e-5), loss=\"sparse_categorical_crossentropy\", metrics=[\"accuracy\"] )\n",
    "    \n",
    "    return model"
   ]
  },
  {
   "cell_type": "code",
   "execution_count": null,
   "id": "cb632dca",
   "metadata": {},
   "outputs": [],
   "source": [
    "train_and_plot(deltaplus_model_builder, 'delta_plus')"
   ]
  },
  {
   "cell_type": "markdown",
   "id": "7b6acf3c",
   "metadata": {},
   "source": [
    "#### Model Epsilon Plus $\\epsilon^+$"
   ]
  },
  {
   "cell_type": "code",
   "execution_count": 16,
   "id": "c35a41d6",
   "metadata": {},
   "outputs": [],
   "source": [
    "def epsilonplus_model_builder(max_len=MAX_LEN):  \n",
    "    # --- INPUTS ---  \n",
    "    input_ids       = Input(shape=(max_len,), dtype=tf.int32, name=\"input_ids\")\n",
    "    token_type_ids  = Input(shape=(max_len,), dtype=tf.int32, name=\"token_type_ids\")\n",
    "    attention_mask  = Input(shape=(max_len,), dtype=tf.int32, name=\"attention_mask\")\n",
    "\n",
    "    # --- BERT WORLD EMBEDDING ---\n",
    "    bert_model = TFBertModel.from_pretrained(\"bert-base-cased\")\n",
    "    sequence_output = bert_model(input_ids, token_type_ids=token_type_ids, attention_mask=attention_mask)[0]\n",
    "\n",
    "    # --- MIDDEL LAYER ---\n",
    "    conv_1      = Conv1D(128, 5, activation='relu', name=\"conv_1\")(sequence_output)\n",
    "    conv_2      = Conv1D(64, 5, activation='relu', name=\"conv_2\")(conv_1)\n",
    "    max_pool  = MaxPooling1D(pool_size=3, name=\"maxpooling\")(conv_2)\n",
    "    \n",
    "    lstm_1 = LSTM(4, return_sequences=True, name=\"lstm_1\")(max_pool)\n",
    "    lstm_2 = LSTM(2, name=\"lstm_2\")(lstm_1)\n",
    "\n",
    "    # --- OUTPUT ---\n",
    "    flatten = Flatten()(lstm_2)\n",
    "    out = Dense(3, activation='softmax', name=\"output\")(flatten)\n",
    "    \n",
    "    model = Model(inputs=[input_ids, token_type_ids, attention_mask], outputs=out)\n",
    "    model.compile(optimizer=Adam(learning_rate=1e-5), loss=\"sparse_categorical_crossentropy\", metrics=[\"accuracy\"] )\n",
    "    \n",
    "    return model"
   ]
  },
  {
   "cell_type": "code",
   "execution_count": 17,
   "id": "2a78d150",
   "metadata": {},
   "outputs": [
    {
     "name": "stderr",
     "output_type": "stream",
     "text": [
      "Some layers from the model checkpoint at bert-base-cased were not used when initializing TFBertModel: ['nsp___cls', 'mlm___cls']\n",
      "- This IS expected if you are initializing TFBertModel from the checkpoint of a model trained on another task or with another architecture (e.g. initializing a BertForSequenceClassification model from a BertForPreTraining model).\n",
      "- This IS NOT expected if you are initializing TFBertModel from the checkpoint of a model that you expect to be exactly identical (initializing a BertForSequenceClassification model from a BertForSequenceClassification model).\n",
      "All the layers of TFBertModel were initialized from the model checkpoint at bert-base-cased.\n",
      "If your task is similar to the task the model of the checkpoint was trained on, you can already use TFBertModel for predictions without further training.\n"
     ]
    },
    {
     "name": "stdout",
     "output_type": "stream",
     "text": [
      "Model: \"model\"\n",
      "__________________________________________________________________________________________________\n",
      " Layer (type)                   Output Shape         Param #     Connected to                     \n",
      "==================================================================================================\n",
      " input_ids (InputLayer)         [(None, 256)]        0           []                               \n",
      "                                                                                                  \n",
      " attention_mask (InputLayer)    [(None, 256)]        0           []                               \n",
      "                                                                                                  \n",
      " token_type_ids (InputLayer)    [(None, 256)]        0           []                               \n",
      "                                                                                                  \n",
      " tf_bert_model (TFBertModel)    TFBaseModelOutputWi  108310272   ['input_ids[0][0]',              \n",
      "                                thPoolingAndCrossAt               'attention_mask[0][0]',         \n",
      "                                tentions(last_hidde               'token_type_ids[0][0]']         \n",
      "                                n_state=(None, 256,                                               \n",
      "                                 768),                                                            \n",
      "                                 pooler_output=(Non                                               \n",
      "                                e, 768),                                                          \n",
      "                                 past_key_values=No                                               \n",
      "                                ne, hidden_states=N                                               \n",
      "                                one, attentions=Non                                               \n",
      "                                e, cross_attentions                                               \n",
      "                                =None)                                                            \n",
      "                                                                                                  \n",
      " conv_1 (Conv1D)                (None, 252, 128)     491648      ['tf_bert_model[0][0]']          \n",
      "                                                                                                  \n",
      " conv_2 (Conv1D)                (None, 248, 64)      41024       ['conv_1[0][0]']                 \n",
      "                                                                                                  \n",
      " maxpooling (MaxPooling1D)      (None, 82, 64)       0           ['conv_2[0][0]']                 \n",
      "                                                                                                  \n",
      " lstm_1 (LSTM)                  (None, 82, 4)        1104        ['maxpooling[0][0]']             \n",
      "                                                                                                  \n",
      " lstm_2 (LSTM)                  (None, 2)            56          ['lstm_1[0][0]']                 \n",
      "                                                                                                  \n",
      " flatten (Flatten)              (None, 2)            0           ['lstm_2[0][0]']                 \n",
      "                                                                                                  \n",
      " output (Dense)                 (None, 3)            9           ['flatten[0][0]']                \n",
      "                                                                                                  \n",
      "==================================================================================================\n",
      "Total params: 108,844,113\n",
      "Trainable params: 108,844,113\n",
      "Non-trainable params: 0\n",
      "__________________________________________________________________________________________________\n",
      "huggingface/tokenizers: The current process just got forked, after parallelism has already been used. Disabling parallelism to avoid deadlocks...\n",
      "To disable this warning, you can either:\n",
      "\t- Avoid using `tokenizers` before the fork if possible\n",
      "\t- Explicitly set the environment variable TOKENIZERS_PARALLELISM=(true | false)\n",
      "huggingface/tokenizers: The current process just got forked, after parallelism has already been used. Disabling parallelism to avoid deadlocks...\n",
      "To disable this warning, you can either:\n",
      "\t- Avoid using `tokenizers` before the fork if possible\n",
      "\t- Explicitly set the environment variable TOKENIZERS_PARALLELISM=(true | false)\n",
      "Epoch 1/30\n",
      "WARNING:tensorflow:Gradients do not exist for variables ['tf_bert_model/bert/pooler/dense/kernel:0', 'tf_bert_model/bert/pooler/dense/bias:0'] when minimizing the loss. If you're using `model.compile()`, did you forget to provide a `loss`argument?\n",
      "WARNING:tensorflow:Gradients do not exist for variables ['tf_bert_model/bert/pooler/dense/kernel:0', 'tf_bert_model/bert/pooler/dense/bias:0'] when minimizing the loss. If you're using `model.compile()`, did you forget to provide a `loss`argument?\n"
     ]
    },
    {
     "name": "stderr",
     "output_type": "stream",
     "text": [
      "Could not load symbol cublasGetSmCountTarget from libcublas.so.11. Error: /usr/local/cuda/lib64/libcublas.so.11: undefined symbol: cublasGetSmCountTarget\n"
     ]
    },
    {
     "name": "stdout",
     "output_type": "stream",
     "text": [
      "100/100 [==============================] - ETA: 0s - loss: 1.0816 - accuracy: 0.4733\n",
      "Epoch 1: val_loss improved from inf to 1.04429, saving model to BRUN0-Net-epsilon_plus.h5\n",
      "100/100 [==============================] - 124s 1s/step - loss: 1.0816 - accuracy: 0.4733 - val_loss: 1.0443 - val_accuracy: 0.5860\n",
      "Epoch 2/30\n",
      "100/100 [==============================] - ETA: 0s - loss: 1.0271 - accuracy: 0.5583\n",
      "Epoch 2: val_loss improved from 1.04429 to 1.00368, saving model to BRUN0-Net-epsilon_plus.h5\n",
      "100/100 [==============================] - 115s 1s/step - loss: 1.0271 - accuracy: 0.5583 - val_loss: 1.0037 - val_accuracy: 0.5860\n",
      "Epoch 3/30\n",
      "100/100 [==============================] - ETA: 0s - loss: 1.0066 - accuracy: 0.5642\n",
      "Epoch 3: val_loss improved from 1.00368 to 0.98184, saving model to BRUN0-Net-epsilon_plus.h5\n",
      "100/100 [==============================] - 116s 1s/step - loss: 1.0066 - accuracy: 0.5642 - val_loss: 0.9818 - val_accuracy: 0.5860\n",
      "Epoch 4/30\n",
      "100/100 [==============================] - ETA: 0s - loss: 0.9841 - accuracy: 0.5825\n",
      "Epoch 4: val_loss improved from 0.98184 to 0.96973, saving model to BRUN0-Net-epsilon_plus.h5\n",
      "100/100 [==============================] - 116s 1s/step - loss: 0.9841 - accuracy: 0.5825 - val_loss: 0.9697 - val_accuracy: 0.5860\n",
      "Epoch 5/30\n",
      "100/100 [==============================] - ETA: 0s - loss: 0.9841 - accuracy: 0.5667\n",
      "Epoch 5: val_loss improved from 0.96973 to 0.96466, saving model to BRUN0-Net-epsilon_plus.h5\n",
      "100/100 [==============================] - 116s 1s/step - loss: 0.9841 - accuracy: 0.5667 - val_loss: 0.9647 - val_accuracy: 0.5860\n",
      "Epoch 6/30\n",
      "100/100 [==============================] - ETA: 0s - loss: 0.9940 - accuracy: 0.5467\n",
      "Epoch 6: val_loss improved from 0.96466 to 0.96355, saving model to BRUN0-Net-epsilon_plus.h5\n",
      "100/100 [==============================] - 115s 1s/step - loss: 0.9940 - accuracy: 0.5467 - val_loss: 0.9636 - val_accuracy: 0.5860\n",
      "Epoch 7/30\n",
      "100/100 [==============================] - ETA: 0s - loss: 0.9892 - accuracy: 0.5583\n",
      "Epoch 7: val_loss improved from 0.96355 to 0.96294, saving model to BRUN0-Net-epsilon_plus.h5\n",
      "100/100 [==============================] - 115s 1s/step - loss: 0.9892 - accuracy: 0.5583 - val_loss: 0.9629 - val_accuracy: 0.5860\n",
      "Epoch 8/30\n",
      "100/100 [==============================] - ETA: 0s - loss: 0.9847 - accuracy: 0.5558\n",
      "Epoch 8: val_loss improved from 0.96294 to 0.96211, saving model to BRUN0-Net-epsilon_plus.h5\n",
      "100/100 [==============================] - 115s 1s/step - loss: 0.9847 - accuracy: 0.5558 - val_loss: 0.9621 - val_accuracy: 0.5860\n",
      "Epoch 9/30\n",
      "100/100 [==============================] - ETA: 0s - loss: 0.9911 - accuracy: 0.5508\n",
      "Epoch 9: val_loss did not improve from 0.96211\n",
      "100/100 [==============================] - 114s 1s/step - loss: 0.9911 - accuracy: 0.5508 - val_loss: 0.9625 - val_accuracy: 0.5860\n",
      "Epoch 10/30\n",
      "100/100 [==============================] - ETA: 0s - loss: 0.9737 - accuracy: 0.5750\n",
      "Epoch 10: val_loss improved from 0.96211 to 0.96108, saving model to BRUN0-Net-epsilon_plus.h5\n",
      "100/100 [==============================] - 114s 1s/step - loss: 0.9737 - accuracy: 0.5750 - val_loss: 0.9611 - val_accuracy: 0.5860\n",
      "Epoch 11/30\n",
      "100/100 [==============================] - ETA: 0s - loss: 0.9734 - accuracy: 0.5692\n",
      "Epoch 11: val_loss improved from 0.96108 to 0.96070, saving model to BRUN0-Net-epsilon_plus.h5\n",
      "100/100 [==============================] - 115s 1s/step - loss: 0.9734 - accuracy: 0.5692 - val_loss: 0.9607 - val_accuracy: 0.5860\n",
      "Epoch 12/30\n",
      "100/100 [==============================] - ETA: 0s - loss: 0.9592 - accuracy: 0.5892\n",
      "Epoch 12: val_loss improved from 0.96070 to 0.95996, saving model to BRUN0-Net-epsilon_plus.h5\n",
      "100/100 [==============================] - 115s 1s/step - loss: 0.9592 - accuracy: 0.5892 - val_loss: 0.9600 - val_accuracy: 0.5860\n",
      "Epoch 13/30\n",
      "100/100 [==============================] - ETA: 0s - loss: 0.9798 - accuracy: 0.5600\n",
      "Epoch 13: val_loss did not improve from 0.95996\n",
      "100/100 [==============================] - 114s 1s/step - loss: 0.9798 - accuracy: 0.5600 - val_loss: 0.9606 - val_accuracy: 0.5860\n",
      "Epoch 14/30\n",
      "100/100 [==============================] - ETA: 0s - loss: 0.9543 - accuracy: 0.5883\n",
      "Epoch 14: val_loss did not improve from 0.95996\n",
      "100/100 [==============================] - 115s 1s/step - loss: 0.9543 - accuracy: 0.5883 - val_loss: 0.9602 - val_accuracy: 0.5860\n",
      "Epoch 15/30\n",
      "100/100 [==============================] - ETA: 0s - loss: 0.9988 - accuracy: 0.5475\n",
      "Epoch 15: val_loss did not improve from 0.95996\n",
      "100/100 [==============================] - 114s 1s/step - loss: 0.9988 - accuracy: 0.5475 - val_loss: 0.9605 - val_accuracy: 0.5860\n",
      "Epoch 16/30\n",
      "100/100 [==============================] - ETA: 0s - loss: 0.9861 - accuracy: 0.5583\n",
      "Epoch 16: val_loss did not improve from 0.95996\n",
      "100/100 [==============================] - 114s 1s/step - loss: 0.9861 - accuracy: 0.5583 - val_loss: 0.9611 - val_accuracy: 0.5860\n",
      "Epoch 17/30\n",
      "100/100 [==============================] - ETA: 0s - loss: 0.9885 - accuracy: 0.5542\n",
      "Epoch 17: val_loss did not improve from 0.95996\n",
      "100/100 [==============================] - 114s 1s/step - loss: 0.9885 - accuracy: 0.5542 - val_loss: 0.9613 - val_accuracy: 0.5860\n",
      "Epoch 18/30\n",
      "100/100 [==============================] - ETA: 0s - loss: 0.9785 - accuracy: 0.5642\n",
      "Epoch 18: val_loss did not improve from 0.95996\n",
      "100/100 [==============================] - 114s 1s/step - loss: 0.9785 - accuracy: 0.5642 - val_loss: 0.9611 - val_accuracy: 0.5860\n",
      "Epoch 19/30\n",
      "100/100 [==============================] - ETA: 0s - loss: 0.9670 - accuracy: 0.5800\n",
      "Epoch 19: val_loss did not improve from 0.95996\n",
      "100/100 [==============================] - 113s 1s/step - loss: 0.9670 - accuracy: 0.5800 - val_loss: 0.9604 - val_accuracy: 0.5860\n",
      "Epoch 20/30\n",
      "100/100 [==============================] - ETA: 0s - loss: 0.9671 - accuracy: 0.5708\n",
      "Epoch 20: val_loss did not improve from 0.95996\n",
      "100/100 [==============================] - 112s 1s/step - loss: 0.9671 - accuracy: 0.5708 - val_loss: 0.9607 - val_accuracy: 0.5860\n",
      "Epoch 21/30\n",
      "100/100 [==============================] - ETA: 0s - loss: 0.9888 - accuracy: 0.5533\n",
      "Epoch 21: val_loss did not improve from 0.95996\n",
      "100/100 [==============================] - 112s 1s/step - loss: 0.9888 - accuracy: 0.5533 - val_loss: 0.9611 - val_accuracy: 0.5860\n",
      "Epoch 22/30\n",
      "100/100 [==============================] - ETA: 0s - loss: 0.9408 - accuracy: 0.5925\n",
      "Epoch 22: val_loss did not improve from 0.95996\n",
      "100/100 [==============================] - 110s 1s/step - loss: 0.9408 - accuracy: 0.5925 - val_loss: 0.9619 - val_accuracy: 0.5860\n",
      "Epoch 22: early stopping\n"
     ]
    },
    {
     "data": {
      "image/png": "[encoded data removed]",
      "text/plain": [
       "<Figure size 432x288 with 1 Axes>"
      ]
     },
     "metadata": {
      "needs_background": "light"
     },
     "output_type": "display_data"
    },
    {
     "data": {
      "image/png": "[encoded data removed]",
      "text/plain": [
       "<Figure size 432x288 with 1 Axes>"
      ]
     },
     "metadata": {
      "needs_background": "light"
     },
     "output_type": "display_data"
    }
   ],
   "source": [
    "train_and_plot(epsilonplus_model_builder, 'epsilon_plus')"
   ]
  }
 ],
 "metadata": {
  "kernelspec": {
   "display_name": "Python 3.8.10 64-bit",
   "language": "python",
   "name": "python3"
  },
  "language_info": {
   "codemirror_mode": {
    "name": "ipython",
    "version": 3
   },
   "file_extension": ".py",
   "mimetype": "text/x-python",
   "name": "python",
   "nbconvert_exporter": "python",
   "pygments_lexer": "ipython3",
   "version": "3.8.10"
  },
  "vscode": {
   "interpreter": {
    "hash": "916dbcbb3f70747c44a77c7bcd40155683ae19c65e1c03b4aa3499c5328201f1"
   }
  }
 },
 "nbformat": 4,
 "nbformat_minor": 5
}
